{
 "cells": [
  {
   "cell_type": "markdown",
   "id": "c3846504",
   "metadata": {},
   "source": [
    "## Data Preprocessing"
   ]
  },
  {
   "cell_type": "code",
   "execution_count": 1,
   "id": "0af47fd6",
   "metadata": {},
   "outputs": [],
   "source": [
    "import pandas as pd\n",
    "import matplotlib.pyplot as plt"
   ]
  },
  {
   "cell_type": "code",
   "execution_count": 84,
   "id": "01844a87",
   "metadata": {},
   "outputs": [],
   "source": [
    "business = pd.read_csv('yelp_business.csv')"
   ]
  },
  {
   "cell_type": "code",
   "execution_count": 85,
   "id": "3fabad48",
   "metadata": {},
   "outputs": [],
   "source": [
    "business = business.dropna()"
   ]
  },
  {
   "cell_type": "markdown",
   "id": "e9f1061f",
   "metadata": {},
   "source": [
    "### Dataset Features"
   ]
  },
  {
   "cell_type": "code",
   "execution_count": 86,
   "id": "76a24f09",
   "metadata": {},
   "outputs": [
    {
     "name": "stdout",
     "output_type": "stream",
     "text": [
      "<class 'pandas.core.frame.DataFrame'>\n",
      "Int64Index: 67741 entries, 6 to 174561\n",
      "Data columns (total 13 columns):\n",
      " #   Column        Non-Null Count  Dtype  \n",
      "---  ------        --------------  -----  \n",
      " 0   business_id   67741 non-null  object \n",
      " 1   name          67741 non-null  object \n",
      " 2   neighborhood  67741 non-null  object \n",
      " 3   address       67741 non-null  object \n",
      " 4   city          67741 non-null  object \n",
      " 5   state         67741 non-null  object \n",
      " 6   postal_code   67741 non-null  object \n",
      " 7   latitude      67741 non-null  float64\n",
      " 8   longitude     67741 non-null  float64\n",
      " 9   stars         67741 non-null  float64\n",
      " 10  review_count  67741 non-null  int64  \n",
      " 11  is_open       67741 non-null  int64  \n",
      " 12  categories    67741 non-null  object \n",
      "dtypes: float64(3), int64(2), object(8)\n",
      "memory usage: 7.2+ MB\n"
     ]
    }
   ],
   "source": [
    "business.info()"
   ]
  },
  {
   "cell_type": "markdown",
   "id": "de1382a4",
   "metadata": {},
   "source": [
    "### Excluding business which are closed"
   ]
  },
  {
   "cell_type": "code",
   "execution_count": 87,
   "id": "04b66bd4",
   "metadata": {},
   "outputs": [
    {
     "data": {
      "text/plain": [
       "1    55259\n",
       "0    12482\n",
       "Name: is_open, dtype: int64"
      ]
     },
     "execution_count": 87,
     "metadata": {},
     "output_type": "execute_result"
    }
   ],
   "source": [
    "business['is_open'].value_counts()"
   ]
  },
  {
   "cell_type": "code",
   "execution_count": 88,
   "id": "9adfb668",
   "metadata": {},
   "outputs": [],
   "source": [
    "business = business[business['is_open'] == 1]"
   ]
  },
  {
   "cell_type": "markdown",
   "id": "556ad0ed",
   "metadata": {},
   "source": [
    "### Excluding business which are not food related"
   ]
  },
  {
   "cell_type": "code",
   "execution_count": 89,
   "id": "9f46af7c",
   "metadata": {},
   "outputs": [
    {
     "data": {
      "text/plain": [
       "Food;Coffee & Tea            393\n",
       "Coffee & Tea;Food            370\n",
       "Beauty & Spas;Hair Salons    313\n",
       "Hair Salons;Beauty & Spas    287\n",
       "Restaurants;Pizza            284\n",
       "Pizza;Restaurants            278\n",
       "Chinese;Restaurants          254\n",
       "Restaurants;Chinese          252\n",
       "Nail Salons;Beauty & Spas    250\n",
       "Beauty & Spas;Nail Salons    244\n",
       "Name: categories, dtype: int64"
      ]
     },
     "execution_count": 89,
     "metadata": {},
     "output_type": "execute_result"
    }
   ],
   "source": [
    "business['categories'].value_counts().head(10)"
   ]
  },
  {
   "cell_type": "code",
   "execution_count": 90,
   "id": "84bbe40a",
   "metadata": {},
   "outputs": [],
   "source": [
    "business = business[business['categories'].str.contains(\n",
    "    'food|restaurant|coffee|bar')]"
   ]
  },
  {
   "cell_type": "code",
   "execution_count": 91,
   "id": "cb673b0d",
   "metadata": {},
   "outputs": [
    {
     "data": {
      "text/plain": [
       "Restaurants;Seafood                    29\n",
       "Seafood;Restaurants                    27\n",
       "Food;Specialty Food;Seafood Markets    11\n",
       "Specialty Food;Seafood Markets;Food     8\n",
       "Seafood Markets;Food;Specialty Food     7\n",
       "Specialty Food;Food;Seafood Markets     7\n",
       "Seafood Markets;Specialty Food;Food     6\n",
       "Fish & Chips;Seafood;Restaurants        5\n",
       "Italian;Restaurants;Seafood             5\n",
       "Mexican;Seafood;Restaurants             4\n",
       "Name: categories, dtype: int64"
      ]
     },
     "execution_count": 91,
     "metadata": {},
     "output_type": "execute_result"
    }
   ],
   "source": [
    "business['categories'].value_counts().head(10)"
   ]
  },
  {
   "cell_type": "markdown",
   "id": "aee85084",
   "metadata": {},
   "source": [
    "### Top 10 Cities "
   ]
  },
  {
   "cell_type": "code",
   "execution_count": 92,
   "id": "354cc71c",
   "metadata": {
    "scrolled": false
   },
   "outputs": [],
   "source": [
    "cities = business['city'].value_counts().nlargest(10).index\n",
    "city_counts = business['city'].value_counts().nlargest(10).values"
   ]
  },
  {
   "cell_type": "code",
   "execution_count": 94,
   "id": "0d84aa3f",
   "metadata": {},
   "outputs": [
    {
     "data": {
      "image/png": "[encoded data removed]",
      "text/plain": [
       "<Figure size 864x432 with 1 Axes>"
      ]
     },
     "metadata": {
      "needs_background": "light"
     },
     "output_type": "display_data"
    }
   ],
   "source": [
    "plt.figure(figsize=(12, 6))\n",
    "plt.bar(cities, city_counts)\n",
    "plt.title('Top 10 Cities Restaurant Counts')\n",
    "plt.xlabel('City')\n",
    "plt.ylabel('Number of Restaurants')\n",
    "plt.show()"
   ]
  },
  {
   "cell_type": "markdown",
   "id": "b6d6d87a",
   "metadata": {},
   "source": [
    "### Top 10 States"
   ]
  },
  {
   "cell_type": "code",
   "execution_count": 95,
   "id": "cc076999",
   "metadata": {
    "scrolled": true
   },
   "outputs": [],
   "source": [
    "states = business['state'].value_counts().nlargest(10).index\n",
    "state_counts = business['state'].value_counts().nlargest(10).values"
   ]
  },
  {
   "cell_type": "code",
   "execution_count": 96,
   "id": "15059f45",
   "metadata": {},
   "outputs": [
    {
     "data": {
      "image/png": "[encoded data removed]",
      "text/plain": [
       "<Figure size 864x432 with 1 Axes>"
      ]
     },
     "metadata": {
      "needs_background": "light"
     },
     "output_type": "display_data"
    }
   ],
   "source": [
    "plt.figure(figsize=(12, 6))\n",
    "plt.bar(states, state_counts)\n",
    "plt.title('Top 10 States Restaurant Counts')\n",
    "plt.xlabel('State')\n",
    "plt.ylabel('Number of Restaurants')\n",
    "plt.show()"
   ]
  },
  {
   "cell_type": "markdown",
   "id": "1a33a4a4",
   "metadata": {},
   "source": [
    "### Star Ratings Distributions"
   ]
  },
  {
   "cell_type": "code",
   "execution_count": 97,
   "id": "94e3aeaa",
   "metadata": {},
   "outputs": [
    {
     "data": {
      "text/plain": [
       "4.0    271\n",
       "3.5    238\n",
       "4.5    120\n",
       "3.0    109\n",
       "2.5     52\n",
       "5.0     19\n",
       "2.0     10\n",
       "1.5      4\n",
       "1.0      1\n",
       "Name: stars, dtype: int64"
      ]
     },
     "execution_count": 97,
     "metadata": {},
     "output_type": "execute_result"
    }
   ],
   "source": [
    "business['stars'].value_counts()"
   ]
  },
  {
   "cell_type": "code",
   "execution_count": 98,
   "id": "40c25d27",
   "metadata": {
    "scrolled": true
   },
   "outputs": [
    {
     "data": {
      "image/png": "[encoded data removed]",
      "text/plain": [
       "<Figure size 432x432 with 1 Axes>"
      ]
     },
     "metadata": {
      "needs_background": "light"
     },
     "output_type": "display_data"
    }
   ],
   "source": [
    "plt.figure(figsize=(6, 6))\n",
    "business['stars'].value_counts().plot.bar()\n",
    "plt.title('Ratings Distribution')\n",
    "plt.xlabel('Rating')\n",
    "plt.ylabel('Number of Ratings')\n",
    "plt.show()"
   ]
  },
  {
   "cell_type": "markdown",
   "id": "9382a489",
   "metadata": {},
   "source": [
    "### Reviews Distribution"
   ]
  },
  {
   "cell_type": "code",
   "execution_count": 99,
   "id": "e2eeda77",
   "metadata": {},
   "outputs": [
    {
     "data": {
      "text/plain": [
       "count     824.000000\n",
       "mean      145.623786\n",
       "std       269.756565\n",
       "min         3.000000\n",
       "25%        14.000000\n",
       "50%        51.000000\n",
       "75%       171.000000\n",
       "max      3964.000000\n",
       "Name: review_count, dtype: float64"
      ]
     },
     "execution_count": 99,
     "metadata": {},
     "output_type": "execute_result"
    }
   ],
   "source": [
    "business['review_count'].describe()"
   ]
  },
  {
   "cell_type": "code",
   "execution_count": 100,
   "id": "8e7ccee8",
   "metadata": {},
   "outputs": [
    {
     "data": {
      "image/png": "[encoded data removed]",
      "text/plain": [
       "<Figure size 432x432 with 1 Axes>"
      ]
     },
     "metadata": {
      "needs_background": "light"
     },
     "output_type": "display_data"
    }
   ],
   "source": [
    "plt.figure(figsize=(6, 6))\n",
    "plt.scatter(x='stars', y='review_count', data=business)\n",
    "plt.title('Reviews Distribution')\n",
    "plt.xlabel('Ratings')\n",
    "plt.ylabel('Number of Reviews')\n",
    "plt.show()"
   ]
  },
  {
   "cell_type": "markdown",
   "id": "0802649e",
   "metadata": {},
   "source": [
    "### Combining Reviews with Business"
   ]
  },
  {
   "cell_type": "code",
   "execution_count": 101,
   "id": "38f8002e",
   "metadata": {},
   "outputs": [],
   "source": [
    "reviews = pd.read_csv('yelp_review.csv')"
   ]
  },
  {
   "cell_type": "code",
   "execution_count": 102,
   "id": "7a7963a6",
   "metadata": {},
   "outputs": [
    {
     "name": "stdout",
     "output_type": "stream",
     "text": [
      "<class 'pandas.core.frame.DataFrame'>\n",
      "RangeIndex: 5261668 entries, 0 to 5261667\n",
      "Data columns (total 9 columns):\n",
      " #   Column       Dtype \n",
      "---  ------       ----- \n",
      " 0   review_id    object\n",
      " 1   user_id      object\n",
      " 2   business_id  object\n",
      " 3   stars        int64 \n",
      " 4   date         object\n",
      " 5   text         object\n",
      " 6   useful       int64 \n",
      " 7   funny        int64 \n",
      " 8   cool         int64 \n",
      "dtypes: int64(4), object(5)\n",
      "memory usage: 361.3+ MB\n"
     ]
    }
   ],
   "source": [
    "reviews.info()"
   ]
  },
  {
   "cell_type": "code",
   "execution_count": 103,
   "id": "3db25545",
   "metadata": {},
   "outputs": [
    {
     "data": {
      "text/plain": [
       "review_id      0\n",
       "user_id        0\n",
       "business_id    0\n",
       "stars          0\n",
       "date           0\n",
       "text           0\n",
       "useful         0\n",
       "funny          0\n",
       "cool           0\n",
       "dtype: int64"
      ]
     },
     "execution_count": 103,
     "metadata": {},
     "output_type": "execute_result"
    }
   ],
   "source": [
    "reviews.isnull().sum()"
   ]
  },
  {
   "cell_type": "code",
   "execution_count": 104,
   "id": "db40280c",
   "metadata": {},
   "outputs": [],
   "source": [
    "restaurant_reviews = pd.merge(business, reviews, on='business_id')"
   ]
  },
  {
   "cell_type": "code",
   "execution_count": 105,
   "id": "cb36d34b",
   "metadata": {},
   "outputs": [
    {
     "data": {
      "text/html": [
       "<div>\n",
       "<style scoped>\n",
       "    .dataframe tbody tr th:only-of-type {\n",
       "        vertical-align: middle;\n",
       "    }\n",
       "\n",
       "    .dataframe tbody tr th {\n",
       "        vertical-align: top;\n",
       "    }\n",
       "\n",
       "    .dataframe thead th {\n",
       "        text-align: right;\n",
       "    }\n",
       "</style>\n",
       "<table border=\"1\" class=\"dataframe\">\n",
       "  <thead>\n",
       "    <tr style=\"text-align: right;\">\n",
       "      <th></th>\n",
       "      <th>business_id</th>\n",
       "      <th>name</th>\n",
       "      <th>neighborhood</th>\n",
       "      <th>address</th>\n",
       "      <th>city</th>\n",
       "      <th>state</th>\n",
       "      <th>postal_code</th>\n",
       "      <th>latitude</th>\n",
       "      <th>longitude</th>\n",
       "      <th>stars_x</th>\n",
       "      <th>...</th>\n",
       "      <th>is_open</th>\n",
       "      <th>categories</th>\n",
       "      <th>review_id</th>\n",
       "      <th>user_id</th>\n",
       "      <th>stars_y</th>\n",
       "      <th>date</th>\n",
       "      <th>text</th>\n",
       "      <th>useful</th>\n",
       "      <th>funny</th>\n",
       "      <th>cool</th>\n",
       "    </tr>\n",
       "  </thead>\n",
       "  <tbody>\n",
       "    <tr>\n",
       "      <th>0</th>\n",
       "      <td>xMP2oDrKFqyUrN0Uww85EQ</td>\n",
       "      <td>\"Dockside Seafood Market\"</td>\n",
       "      <td>Eastland</td>\n",
       "      <td>\"3017 Kilborne Dr\"</td>\n",
       "      <td>Charlotte</td>\n",
       "      <td>NC</td>\n",
       "      <td>28205</td>\n",
       "      <td>35.214618</td>\n",
       "      <td>-80.770211</td>\n",
       "      <td>4.5</td>\n",
       "      <td>...</td>\n",
       "      <td>1</td>\n",
       "      <td>Seafood Markets;Food;Specialty Food</td>\n",
       "      <td>gIGNJQQyQnJ-P-OJWu-a7w</td>\n",
       "      <td>yCaDISH0R8e5U376zDWTpQ</td>\n",
       "      <td>5</td>\n",
       "      <td>2014-01-21</td>\n",
       "      <td>I have been coming to this seafood spot off an...</td>\n",
       "      <td>2</td>\n",
       "      <td>0</td>\n",
       "      <td>0</td>\n",
       "    </tr>\n",
       "    <tr>\n",
       "      <th>1</th>\n",
       "      <td>xMP2oDrKFqyUrN0Uww85EQ</td>\n",
       "      <td>\"Dockside Seafood Market\"</td>\n",
       "      <td>Eastland</td>\n",
       "      <td>\"3017 Kilborne Dr\"</td>\n",
       "      <td>Charlotte</td>\n",
       "      <td>NC</td>\n",
       "      <td>28205</td>\n",
       "      <td>35.214618</td>\n",
       "      <td>-80.770211</td>\n",
       "      <td>4.5</td>\n",
       "      <td>...</td>\n",
       "      <td>1</td>\n",
       "      <td>Seafood Markets;Food;Specialty Food</td>\n",
       "      <td>nuPTQPA0lPY2jLl2NZLrrg</td>\n",
       "      <td>ulHMcirOj_xRV9GkGV2HRA</td>\n",
       "      <td>5</td>\n",
       "      <td>2014-11-10</td>\n",
       "      <td>I absolutely love this place. This is where oi...</td>\n",
       "      <td>0</td>\n",
       "      <td>0</td>\n",
       "      <td>0</td>\n",
       "    </tr>\n",
       "    <tr>\n",
       "      <th>2</th>\n",
       "      <td>xMP2oDrKFqyUrN0Uww85EQ</td>\n",
       "      <td>\"Dockside Seafood Market\"</td>\n",
       "      <td>Eastland</td>\n",
       "      <td>\"3017 Kilborne Dr\"</td>\n",
       "      <td>Charlotte</td>\n",
       "      <td>NC</td>\n",
       "      <td>28205</td>\n",
       "      <td>35.214618</td>\n",
       "      <td>-80.770211</td>\n",
       "      <td>4.5</td>\n",
       "      <td>...</td>\n",
       "      <td>1</td>\n",
       "      <td>Seafood Markets;Food;Specialty Food</td>\n",
       "      <td>WmL_v5CfVMc2crl22gMHWg</td>\n",
       "      <td>9IRuYmy5YmhtNQ6ei1p-uQ</td>\n",
       "      <td>4</td>\n",
       "      <td>2010-11-22</td>\n",
       "      <td>Dockside has been a fresh seafood staple on th...</td>\n",
       "      <td>5</td>\n",
       "      <td>1</td>\n",
       "      <td>2</td>\n",
       "    </tr>\n",
       "    <tr>\n",
       "      <th>3</th>\n",
       "      <td>dPxZI9lrKTl5dvFfnb1_Ig</td>\n",
       "      <td>\"Trattoria Italia\"</td>\n",
       "      <td>Anthem</td>\n",
       "      <td>\"9905 S Eastern Ave, Ste 140\"</td>\n",
       "      <td>Las Vegas</td>\n",
       "      <td>NV</td>\n",
       "      <td>89183</td>\n",
       "      <td>36.010086</td>\n",
       "      <td>-115.118656</td>\n",
       "      <td>4.5</td>\n",
       "      <td>...</td>\n",
       "      <td>1</td>\n",
       "      <td>Seafood;Italian;Pizza;Restaurants</td>\n",
       "      <td>g8yoM5RkDL2HTpk07jkYCg</td>\n",
       "      <td>oFyOUOeGTRZhFPF9uTqrTQ</td>\n",
       "      <td>5</td>\n",
       "      <td>2016-12-13</td>\n",
       "      <td>Went in for the first time tonight and within ...</td>\n",
       "      <td>0</td>\n",
       "      <td>0</td>\n",
       "      <td>1</td>\n",
       "    </tr>\n",
       "    <tr>\n",
       "      <th>4</th>\n",
       "      <td>dPxZI9lrKTl5dvFfnb1_Ig</td>\n",
       "      <td>\"Trattoria Italia\"</td>\n",
       "      <td>Anthem</td>\n",
       "      <td>\"9905 S Eastern Ave, Ste 140\"</td>\n",
       "      <td>Las Vegas</td>\n",
       "      <td>NV</td>\n",
       "      <td>89183</td>\n",
       "      <td>36.010086</td>\n",
       "      <td>-115.118656</td>\n",
       "      <td>4.5</td>\n",
       "      <td>...</td>\n",
       "      <td>1</td>\n",
       "      <td>Seafood;Italian;Pizza;Restaurants</td>\n",
       "      <td>2-lACtC5w76LRGXlE3c-UQ</td>\n",
       "      <td>RSLTG7N0wYJhRTW5CGEm5Q</td>\n",
       "      <td>5</td>\n",
       "      <td>2017-09-22</td>\n",
       "      <td>Hands down this is Las Vegas best mom and pop ...</td>\n",
       "      <td>2</td>\n",
       "      <td>1</td>\n",
       "      <td>1</td>\n",
       "    </tr>\n",
       "    <tr>\n",
       "      <th>...</th>\n",
       "      <td>...</td>\n",
       "      <td>...</td>\n",
       "      <td>...</td>\n",
       "      <td>...</td>\n",
       "      <td>...</td>\n",
       "      <td>...</td>\n",
       "      <td>...</td>\n",
       "      <td>...</td>\n",
       "      <td>...</td>\n",
       "      <td>...</td>\n",
       "      <td>...</td>\n",
       "      <td>...</td>\n",
       "      <td>...</td>\n",
       "      <td>...</td>\n",
       "      <td>...</td>\n",
       "      <td>...</td>\n",
       "      <td>...</td>\n",
       "      <td>...</td>\n",
       "      <td>...</td>\n",
       "      <td>...</td>\n",
       "      <td>...</td>\n",
       "    </tr>\n",
       "    <tr>\n",
       "      <th>119993</th>\n",
       "      <td>Jxbw1bIsLvZ3UAvN59xj8Q</td>\n",
       "      <td>\"The New Bell\"</td>\n",
       "      <td>Newington</td>\n",
       "      <td>\"233-235 Causewayside\"</td>\n",
       "      <td>Edinburgh</td>\n",
       "      <td>EDH</td>\n",
       "      <td>EH9 1PH</td>\n",
       "      <td>55.934965</td>\n",
       "      <td>-3.179002</td>\n",
       "      <td>4.5</td>\n",
       "      <td>...</td>\n",
       "      <td>1</td>\n",
       "      <td>Seafood;Italian;Restaurants</td>\n",
       "      <td>xE6BhU7eUsOl9hfV4bevFQ</td>\n",
       "      <td>NeYPCyHw0Tp67N1ebDCnjw</td>\n",
       "      <td>4</td>\n",
       "      <td>2012-09-14</td>\n",
       "      <td>The restaurant has recently moved their cuisin...</td>\n",
       "      <td>2</td>\n",
       "      <td>0</td>\n",
       "      <td>0</td>\n",
       "    </tr>\n",
       "    <tr>\n",
       "      <th>119994</th>\n",
       "      <td>Jxbw1bIsLvZ3UAvN59xj8Q</td>\n",
       "      <td>\"The New Bell\"</td>\n",
       "      <td>Newington</td>\n",
       "      <td>\"233-235 Causewayside\"</td>\n",
       "      <td>Edinburgh</td>\n",
       "      <td>EDH</td>\n",
       "      <td>EH9 1PH</td>\n",
       "      <td>55.934965</td>\n",
       "      <td>-3.179002</td>\n",
       "      <td>4.5</td>\n",
       "      <td>...</td>\n",
       "      <td>1</td>\n",
       "      <td>Seafood;Italian;Restaurants</td>\n",
       "      <td>MdlEC7QVkRGP1IaBz45naw</td>\n",
       "      <td>Cy1PV2TdYeDFA16mUOlr3Q</td>\n",
       "      <td>4</td>\n",
       "      <td>2010-06-11</td>\n",
       "      <td>The contrast of the Old and New Bell is really...</td>\n",
       "      <td>2</td>\n",
       "      <td>0</td>\n",
       "      <td>0</td>\n",
       "    </tr>\n",
       "    <tr>\n",
       "      <th>119995</th>\n",
       "      <td>Jxbw1bIsLvZ3UAvN59xj8Q</td>\n",
       "      <td>\"The New Bell\"</td>\n",
       "      <td>Newington</td>\n",
       "      <td>\"233-235 Causewayside\"</td>\n",
       "      <td>Edinburgh</td>\n",
       "      <td>EDH</td>\n",
       "      <td>EH9 1PH</td>\n",
       "      <td>55.934965</td>\n",
       "      <td>-3.179002</td>\n",
       "      <td>4.5</td>\n",
       "      <td>...</td>\n",
       "      <td>1</td>\n",
       "      <td>Seafood;Italian;Restaurants</td>\n",
       "      <td>aGoSH3BRK-bMm2FhAZRvlg</td>\n",
       "      <td>zF-hK3107dbCR9vW_kRTWg</td>\n",
       "      <td>4</td>\n",
       "      <td>2011-04-07</td>\n",
       "      <td>Been to the New Bell once and thoroughly enjoy...</td>\n",
       "      <td>1</td>\n",
       "      <td>0</td>\n",
       "      <td>0</td>\n",
       "    </tr>\n",
       "    <tr>\n",
       "      <th>119996</th>\n",
       "      <td>Jxbw1bIsLvZ3UAvN59xj8Q</td>\n",
       "      <td>\"The New Bell\"</td>\n",
       "      <td>Newington</td>\n",
       "      <td>\"233-235 Causewayside\"</td>\n",
       "      <td>Edinburgh</td>\n",
       "      <td>EDH</td>\n",
       "      <td>EH9 1PH</td>\n",
       "      <td>55.934965</td>\n",
       "      <td>-3.179002</td>\n",
       "      <td>4.5</td>\n",
       "      <td>...</td>\n",
       "      <td>1</td>\n",
       "      <td>Seafood;Italian;Restaurants</td>\n",
       "      <td>FrNRdjy8r3grsVdfpBOcZw</td>\n",
       "      <td>iCNZXVbsmPomY-SiAXYklw</td>\n",
       "      <td>5</td>\n",
       "      <td>2012-10-13</td>\n",
       "      <td>Went to the New Bell on Tuesday. Fantastic ser...</td>\n",
       "      <td>1</td>\n",
       "      <td>0</td>\n",
       "      <td>1</td>\n",
       "    </tr>\n",
       "    <tr>\n",
       "      <th>119997</th>\n",
       "      <td>Jxbw1bIsLvZ3UAvN59xj8Q</td>\n",
       "      <td>\"The New Bell\"</td>\n",
       "      <td>Newington</td>\n",
       "      <td>\"233-235 Causewayside\"</td>\n",
       "      <td>Edinburgh</td>\n",
       "      <td>EDH</td>\n",
       "      <td>EH9 1PH</td>\n",
       "      <td>55.934965</td>\n",
       "      <td>-3.179002</td>\n",
       "      <td>4.5</td>\n",
       "      <td>...</td>\n",
       "      <td>1</td>\n",
       "      <td>Seafood;Italian;Restaurants</td>\n",
       "      <td>KTj5pP0Ey9Lq-Gf1HZK2HQ</td>\n",
       "      <td>mJJj_SZff6MEWG5Vx1r8Bg</td>\n",
       "      <td>5</td>\n",
       "      <td>2010-05-07</td>\n",
       "      <td>The New Bell is a fine-dining restaurant that ...</td>\n",
       "      <td>1</td>\n",
       "      <td>0</td>\n",
       "      <td>0</td>\n",
       "    </tr>\n",
       "  </tbody>\n",
       "</table>\n",
       "<p>119998 rows × 21 columns</p>\n",
       "</div>"
      ],
      "text/plain": [
       "                   business_id                       name neighborhood  \\\n",
       "0       xMP2oDrKFqyUrN0Uww85EQ  \"Dockside Seafood Market\"     Eastland   \n",
       "1       xMP2oDrKFqyUrN0Uww85EQ  \"Dockside Seafood Market\"     Eastland   \n",
       "2       xMP2oDrKFqyUrN0Uww85EQ  \"Dockside Seafood Market\"     Eastland   \n",
       "3       dPxZI9lrKTl5dvFfnb1_Ig         \"Trattoria Italia\"       Anthem   \n",
       "4       dPxZI9lrKTl5dvFfnb1_Ig         \"Trattoria Italia\"       Anthem   \n",
       "...                        ...                        ...          ...   \n",
       "119993  Jxbw1bIsLvZ3UAvN59xj8Q             \"The New Bell\"    Newington   \n",
       "119994  Jxbw1bIsLvZ3UAvN59xj8Q             \"The New Bell\"    Newington   \n",
       "119995  Jxbw1bIsLvZ3UAvN59xj8Q             \"The New Bell\"    Newington   \n",
       "119996  Jxbw1bIsLvZ3UAvN59xj8Q             \"The New Bell\"    Newington   \n",
       "119997  Jxbw1bIsLvZ3UAvN59xj8Q             \"The New Bell\"    Newington   \n",
       "\n",
       "                              address       city state postal_code   latitude  \\\n",
       "0                  \"3017 Kilborne Dr\"  Charlotte    NC       28205  35.214618   \n",
       "1                  \"3017 Kilborne Dr\"  Charlotte    NC       28205  35.214618   \n",
       "2                  \"3017 Kilborne Dr\"  Charlotte    NC       28205  35.214618   \n",
       "3       \"9905 S Eastern Ave, Ste 140\"  Las Vegas    NV       89183  36.010086   \n",
       "4       \"9905 S Eastern Ave, Ste 140\"  Las Vegas    NV       89183  36.010086   \n",
       "...                               ...        ...   ...         ...        ...   \n",
       "119993         \"233-235 Causewayside\"  Edinburgh   EDH     EH9 1PH  55.934965   \n",
       "119994         \"233-235 Causewayside\"  Edinburgh   EDH     EH9 1PH  55.934965   \n",
       "119995         \"233-235 Causewayside\"  Edinburgh   EDH     EH9 1PH  55.934965   \n",
       "119996         \"233-235 Causewayside\"  Edinburgh   EDH     EH9 1PH  55.934965   \n",
       "119997         \"233-235 Causewayside\"  Edinburgh   EDH     EH9 1PH  55.934965   \n",
       "\n",
       "         longitude  stars_x  ...  is_open  \\\n",
       "0       -80.770211      4.5  ...        1   \n",
       "1       -80.770211      4.5  ...        1   \n",
       "2       -80.770211      4.5  ...        1   \n",
       "3      -115.118656      4.5  ...        1   \n",
       "4      -115.118656      4.5  ...        1   \n",
       "...            ...      ...  ...      ...   \n",
       "119993   -3.179002      4.5  ...        1   \n",
       "119994   -3.179002      4.5  ...        1   \n",
       "119995   -3.179002      4.5  ...        1   \n",
       "119996   -3.179002      4.5  ...        1   \n",
       "119997   -3.179002      4.5  ...        1   \n",
       "\n",
       "                                 categories               review_id  \\\n",
       "0       Seafood Markets;Food;Specialty Food  gIGNJQQyQnJ-P-OJWu-a7w   \n",
       "1       Seafood Markets;Food;Specialty Food  nuPTQPA0lPY2jLl2NZLrrg   \n",
       "2       Seafood Markets;Food;Specialty Food  WmL_v5CfVMc2crl22gMHWg   \n",
       "3         Seafood;Italian;Pizza;Restaurants  g8yoM5RkDL2HTpk07jkYCg   \n",
       "4         Seafood;Italian;Pizza;Restaurants  2-lACtC5w76LRGXlE3c-UQ   \n",
       "...                                     ...                     ...   \n",
       "119993          Seafood;Italian;Restaurants  xE6BhU7eUsOl9hfV4bevFQ   \n",
       "119994          Seafood;Italian;Restaurants  MdlEC7QVkRGP1IaBz45naw   \n",
       "119995          Seafood;Italian;Restaurants  aGoSH3BRK-bMm2FhAZRvlg   \n",
       "119996          Seafood;Italian;Restaurants  FrNRdjy8r3grsVdfpBOcZw   \n",
       "119997          Seafood;Italian;Restaurants  KTj5pP0Ey9Lq-Gf1HZK2HQ   \n",
       "\n",
       "                       user_id stars_y        date  \\\n",
       "0       yCaDISH0R8e5U376zDWTpQ       5  2014-01-21   \n",
       "1       ulHMcirOj_xRV9GkGV2HRA       5  2014-11-10   \n",
       "2       9IRuYmy5YmhtNQ6ei1p-uQ       4  2010-11-22   \n",
       "3       oFyOUOeGTRZhFPF9uTqrTQ       5  2016-12-13   \n",
       "4       RSLTG7N0wYJhRTW5CGEm5Q       5  2017-09-22   \n",
       "...                        ...     ...         ...   \n",
       "119993  NeYPCyHw0Tp67N1ebDCnjw       4  2012-09-14   \n",
       "119994  Cy1PV2TdYeDFA16mUOlr3Q       4  2010-06-11   \n",
       "119995  zF-hK3107dbCR9vW_kRTWg       4  2011-04-07   \n",
       "119996  iCNZXVbsmPomY-SiAXYklw       5  2012-10-13   \n",
       "119997  mJJj_SZff6MEWG5Vx1r8Bg       5  2010-05-07   \n",
       "\n",
       "                                                     text useful  funny  cool  \n",
       "0       I have been coming to this seafood spot off an...      2      0     0  \n",
       "1       I absolutely love this place. This is where oi...      0      0     0  \n",
       "2       Dockside has been a fresh seafood staple on th...      5      1     2  \n",
       "3       Went in for the first time tonight and within ...      0      0     1  \n",
       "4       Hands down this is Las Vegas best mom and pop ...      2      1     1  \n",
       "...                                                   ...    ...    ...   ...  \n",
       "119993  The restaurant has recently moved their cuisin...      2      0     0  \n",
       "119994  The contrast of the Old and New Bell is really...      2      0     0  \n",
       "119995  Been to the New Bell once and thoroughly enjoy...      1      0     0  \n",
       "119996  Went to the New Bell on Tuesday. Fantastic ser...      1      0     1  \n",
       "119997  The New Bell is a fine-dining restaurant that ...      1      0     0  \n",
       "\n",
       "[119998 rows x 21 columns]"
      ]
     },
     "execution_count": 105,
     "metadata": {},
     "output_type": "execute_result"
    }
   ],
   "source": [
    "restaurant_reviews"
   ]
  },
  {
   "cell_type": "code",
   "execution_count": 112,
   "id": "9c4e64ab",
   "metadata": {},
   "outputs": [],
   "source": [
    "restaurant_reviews = restaurant_reviews.rename(\n",
    "    columns={'stars_x': 'avg_stars', 'stars_y': 'review_stars'})"
   ]
  },
  {
   "cell_type": "code",
   "execution_count": 113,
   "id": "e7f11af1",
   "metadata": {},
   "outputs": [
    {
     "data": {
      "text/html": [
       "<div>\n",
       "<style scoped>\n",
       "    .dataframe tbody tr th:only-of-type {\n",
       "        vertical-align: middle;\n",
       "    }\n",
       "\n",
       "    .dataframe tbody tr th {\n",
       "        vertical-align: top;\n",
       "    }\n",
       "\n",
       "    .dataframe thead th {\n",
       "        text-align: right;\n",
       "    }\n",
       "</style>\n",
       "<table border=\"1\" class=\"dataframe\">\n",
       "  <thead>\n",
       "    <tr style=\"text-align: right;\">\n",
       "      <th></th>\n",
       "      <th>business_id</th>\n",
       "      <th>name</th>\n",
       "      <th>neighborhood</th>\n",
       "      <th>address</th>\n",
       "      <th>city</th>\n",
       "      <th>state</th>\n",
       "      <th>postal_code</th>\n",
       "      <th>latitude</th>\n",
       "      <th>longitude</th>\n",
       "      <th>avg_stars</th>\n",
       "      <th>...</th>\n",
       "      <th>is_open</th>\n",
       "      <th>categories</th>\n",
       "      <th>review_id</th>\n",
       "      <th>user_id</th>\n",
       "      <th>review_stars</th>\n",
       "      <th>date</th>\n",
       "      <th>text</th>\n",
       "      <th>useful</th>\n",
       "      <th>funny</th>\n",
       "      <th>cool</th>\n",
       "    </tr>\n",
       "  </thead>\n",
       "  <tbody>\n",
       "    <tr>\n",
       "      <th>0</th>\n",
       "      <td>xMP2oDrKFqyUrN0Uww85EQ</td>\n",
       "      <td>\"Dockside Seafood Market\"</td>\n",
       "      <td>Eastland</td>\n",
       "      <td>\"3017 Kilborne Dr\"</td>\n",
       "      <td>Charlotte</td>\n",
       "      <td>NC</td>\n",
       "      <td>28205</td>\n",
       "      <td>35.214618</td>\n",
       "      <td>-80.770211</td>\n",
       "      <td>4.5</td>\n",
       "      <td>...</td>\n",
       "      <td>1</td>\n",
       "      <td>Seafood Markets;Food;Specialty Food</td>\n",
       "      <td>gIGNJQQyQnJ-P-OJWu-a7w</td>\n",
       "      <td>yCaDISH0R8e5U376zDWTpQ</td>\n",
       "      <td>5</td>\n",
       "      <td>2014-01-21</td>\n",
       "      <td>I have been coming to this seafood spot off an...</td>\n",
       "      <td>2</td>\n",
       "      <td>0</td>\n",
       "      <td>0</td>\n",
       "    </tr>\n",
       "    <tr>\n",
       "      <th>1</th>\n",
       "      <td>xMP2oDrKFqyUrN0Uww85EQ</td>\n",
       "      <td>\"Dockside Seafood Market\"</td>\n",
       "      <td>Eastland</td>\n",
       "      <td>\"3017 Kilborne Dr\"</td>\n",
       "      <td>Charlotte</td>\n",
       "      <td>NC</td>\n",
       "      <td>28205</td>\n",
       "      <td>35.214618</td>\n",
       "      <td>-80.770211</td>\n",
       "      <td>4.5</td>\n",
       "      <td>...</td>\n",
       "      <td>1</td>\n",
       "      <td>Seafood Markets;Food;Specialty Food</td>\n",
       "      <td>nuPTQPA0lPY2jLl2NZLrrg</td>\n",
       "      <td>ulHMcirOj_xRV9GkGV2HRA</td>\n",
       "      <td>5</td>\n",
       "      <td>2014-11-10</td>\n",
       "      <td>I absolutely love this place. This is where oi...</td>\n",
       "      <td>0</td>\n",
       "      <td>0</td>\n",
       "      <td>0</td>\n",
       "    </tr>\n",
       "    <tr>\n",
       "      <th>2</th>\n",
       "      <td>xMP2oDrKFqyUrN0Uww85EQ</td>\n",
       "      <td>\"Dockside Seafood Market\"</td>\n",
       "      <td>Eastland</td>\n",
       "      <td>\"3017 Kilborne Dr\"</td>\n",
       "      <td>Charlotte</td>\n",
       "      <td>NC</td>\n",
       "      <td>28205</td>\n",
       "      <td>35.214618</td>\n",
       "      <td>-80.770211</td>\n",
       "      <td>4.5</td>\n",
       "      <td>...</td>\n",
       "      <td>1</td>\n",
       "      <td>Seafood Markets;Food;Specialty Food</td>\n",
       "      <td>WmL_v5CfVMc2crl22gMHWg</td>\n",
       "      <td>9IRuYmy5YmhtNQ6ei1p-uQ</td>\n",
       "      <td>4</td>\n",
       "      <td>2010-11-22</td>\n",
       "      <td>Dockside has been a fresh seafood staple on th...</td>\n",
       "      <td>5</td>\n",
       "      <td>1</td>\n",
       "      <td>2</td>\n",
       "    </tr>\n",
       "    <tr>\n",
       "      <th>3</th>\n",
       "      <td>dPxZI9lrKTl5dvFfnb1_Ig</td>\n",
       "      <td>\"Trattoria Italia\"</td>\n",
       "      <td>Anthem</td>\n",
       "      <td>\"9905 S Eastern Ave, Ste 140\"</td>\n",
       "      <td>Las Vegas</td>\n",
       "      <td>NV</td>\n",
       "      <td>89183</td>\n",
       "      <td>36.010086</td>\n",
       "      <td>-115.118656</td>\n",
       "      <td>4.5</td>\n",
       "      <td>...</td>\n",
       "      <td>1</td>\n",
       "      <td>Seafood;Italian;Pizza;Restaurants</td>\n",
       "      <td>g8yoM5RkDL2HTpk07jkYCg</td>\n",
       "      <td>oFyOUOeGTRZhFPF9uTqrTQ</td>\n",
       "      <td>5</td>\n",
       "      <td>2016-12-13</td>\n",
       "      <td>Went in for the first time tonight and within ...</td>\n",
       "      <td>0</td>\n",
       "      <td>0</td>\n",
       "      <td>1</td>\n",
       "    </tr>\n",
       "    <tr>\n",
       "      <th>4</th>\n",
       "      <td>dPxZI9lrKTl5dvFfnb1_Ig</td>\n",
       "      <td>\"Trattoria Italia\"</td>\n",
       "      <td>Anthem</td>\n",
       "      <td>\"9905 S Eastern Ave, Ste 140\"</td>\n",
       "      <td>Las Vegas</td>\n",
       "      <td>NV</td>\n",
       "      <td>89183</td>\n",
       "      <td>36.010086</td>\n",
       "      <td>-115.118656</td>\n",
       "      <td>4.5</td>\n",
       "      <td>...</td>\n",
       "      <td>1</td>\n",
       "      <td>Seafood;Italian;Pizza;Restaurants</td>\n",
       "      <td>2-lACtC5w76LRGXlE3c-UQ</td>\n",
       "      <td>RSLTG7N0wYJhRTW5CGEm5Q</td>\n",
       "      <td>5</td>\n",
       "      <td>2017-09-22</td>\n",
       "      <td>Hands down this is Las Vegas best mom and pop ...</td>\n",
       "      <td>2</td>\n",
       "      <td>1</td>\n",
       "      <td>1</td>\n",
       "    </tr>\n",
       "    <tr>\n",
       "      <th>...</th>\n",
       "      <td>...</td>\n",
       "      <td>...</td>\n",
       "      <td>...</td>\n",
       "      <td>...</td>\n",
       "      <td>...</td>\n",
       "      <td>...</td>\n",
       "      <td>...</td>\n",
       "      <td>...</td>\n",
       "      <td>...</td>\n",
       "      <td>...</td>\n",
       "      <td>...</td>\n",
       "      <td>...</td>\n",
       "      <td>...</td>\n",
       "      <td>...</td>\n",
       "      <td>...</td>\n",
       "      <td>...</td>\n",
       "      <td>...</td>\n",
       "      <td>...</td>\n",
       "      <td>...</td>\n",
       "      <td>...</td>\n",
       "      <td>...</td>\n",
       "    </tr>\n",
       "    <tr>\n",
       "      <th>119993</th>\n",
       "      <td>Jxbw1bIsLvZ3UAvN59xj8Q</td>\n",
       "      <td>\"The New Bell\"</td>\n",
       "      <td>Newington</td>\n",
       "      <td>\"233-235 Causewayside\"</td>\n",
       "      <td>Edinburgh</td>\n",
       "      <td>EDH</td>\n",
       "      <td>EH9 1PH</td>\n",
       "      <td>55.934965</td>\n",
       "      <td>-3.179002</td>\n",
       "      <td>4.5</td>\n",
       "      <td>...</td>\n",
       "      <td>1</td>\n",
       "      <td>Seafood;Italian;Restaurants</td>\n",
       "      <td>xE6BhU7eUsOl9hfV4bevFQ</td>\n",
       "      <td>NeYPCyHw0Tp67N1ebDCnjw</td>\n",
       "      <td>4</td>\n",
       "      <td>2012-09-14</td>\n",
       "      <td>The restaurant has recently moved their cuisin...</td>\n",
       "      <td>2</td>\n",
       "      <td>0</td>\n",
       "      <td>0</td>\n",
       "    </tr>\n",
       "    <tr>\n",
       "      <th>119994</th>\n",
       "      <td>Jxbw1bIsLvZ3UAvN59xj8Q</td>\n",
       "      <td>\"The New Bell\"</td>\n",
       "      <td>Newington</td>\n",
       "      <td>\"233-235 Causewayside\"</td>\n",
       "      <td>Edinburgh</td>\n",
       "      <td>EDH</td>\n",
       "      <td>EH9 1PH</td>\n",
       "      <td>55.934965</td>\n",
       "      <td>-3.179002</td>\n",
       "      <td>4.5</td>\n",
       "      <td>...</td>\n",
       "      <td>1</td>\n",
       "      <td>Seafood;Italian;Restaurants</td>\n",
       "      <td>MdlEC7QVkRGP1IaBz45naw</td>\n",
       "      <td>Cy1PV2TdYeDFA16mUOlr3Q</td>\n",
       "      <td>4</td>\n",
       "      <td>2010-06-11</td>\n",
       "      <td>The contrast of the Old and New Bell is really...</td>\n",
       "      <td>2</td>\n",
       "      <td>0</td>\n",
       "      <td>0</td>\n",
       "    </tr>\n",
       "    <tr>\n",
       "      <th>119995</th>\n",
       "      <td>Jxbw1bIsLvZ3UAvN59xj8Q</td>\n",
       "      <td>\"The New Bell\"</td>\n",
       "      <td>Newington</td>\n",
       "      <td>\"233-235 Causewayside\"</td>\n",
       "      <td>Edinburgh</td>\n",
       "      <td>EDH</td>\n",
       "      <td>EH9 1PH</td>\n",
       "      <td>55.934965</td>\n",
       "      <td>-3.179002</td>\n",
       "      <td>4.5</td>\n",
       "      <td>...</td>\n",
       "      <td>1</td>\n",
       "      <td>Seafood;Italian;Restaurants</td>\n",
       "      <td>aGoSH3BRK-bMm2FhAZRvlg</td>\n",
       "      <td>zF-hK3107dbCR9vW_kRTWg</td>\n",
       "      <td>4</td>\n",
       "      <td>2011-04-07</td>\n",
       "      <td>Been to the New Bell once and thoroughly enjoy...</td>\n",
       "      <td>1</td>\n",
       "      <td>0</td>\n",
       "      <td>0</td>\n",
       "    </tr>\n",
       "    <tr>\n",
       "      <th>119996</th>\n",
       "      <td>Jxbw1bIsLvZ3UAvN59xj8Q</td>\n",
       "      <td>\"The New Bell\"</td>\n",
       "      <td>Newington</td>\n",
       "      <td>\"233-235 Causewayside\"</td>\n",
       "      <td>Edinburgh</td>\n",
       "      <td>EDH</td>\n",
       "      <td>EH9 1PH</td>\n",
       "      <td>55.934965</td>\n",
       "      <td>-3.179002</td>\n",
       "      <td>4.5</td>\n",
       "      <td>...</td>\n",
       "      <td>1</td>\n",
       "      <td>Seafood;Italian;Restaurants</td>\n",
       "      <td>FrNRdjy8r3grsVdfpBOcZw</td>\n",
       "      <td>iCNZXVbsmPomY-SiAXYklw</td>\n",
       "      <td>5</td>\n",
       "      <td>2012-10-13</td>\n",
       "      <td>Went to the New Bell on Tuesday. Fantastic ser...</td>\n",
       "      <td>1</td>\n",
       "      <td>0</td>\n",
       "      <td>1</td>\n",
       "    </tr>\n",
       "    <tr>\n",
       "      <th>119997</th>\n",
       "      <td>Jxbw1bIsLvZ3UAvN59xj8Q</td>\n",
       "      <td>\"The New Bell\"</td>\n",
       "      <td>Newington</td>\n",
       "      <td>\"233-235 Causewayside\"</td>\n",
       "      <td>Edinburgh</td>\n",
       "      <td>EDH</td>\n",
       "      <td>EH9 1PH</td>\n",
       "      <td>55.934965</td>\n",
       "      <td>-3.179002</td>\n",
       "      <td>4.5</td>\n",
       "      <td>...</td>\n",
       "      <td>1</td>\n",
       "      <td>Seafood;Italian;Restaurants</td>\n",
       "      <td>KTj5pP0Ey9Lq-Gf1HZK2HQ</td>\n",
       "      <td>mJJj_SZff6MEWG5Vx1r8Bg</td>\n",
       "      <td>5</td>\n",
       "      <td>2010-05-07</td>\n",
       "      <td>The New Bell is a fine-dining restaurant that ...</td>\n",
       "      <td>1</td>\n",
       "      <td>0</td>\n",
       "      <td>0</td>\n",
       "    </tr>\n",
       "  </tbody>\n",
       "</table>\n",
       "<p>119998 rows × 21 columns</p>\n",
       "</div>"
      ],
      "text/plain": [
       "                   business_id                       name neighborhood  \\\n",
       "0       xMP2oDrKFqyUrN0Uww85EQ  \"Dockside Seafood Market\"     Eastland   \n",
       "1       xMP2oDrKFqyUrN0Uww85EQ  \"Dockside Seafood Market\"     Eastland   \n",
       "2       xMP2oDrKFqyUrN0Uww85EQ  \"Dockside Seafood Market\"     Eastland   \n",
       "3       dPxZI9lrKTl5dvFfnb1_Ig         \"Trattoria Italia\"       Anthem   \n",
       "4       dPxZI9lrKTl5dvFfnb1_Ig         \"Trattoria Italia\"       Anthem   \n",
       "...                        ...                        ...          ...   \n",
       "119993  Jxbw1bIsLvZ3UAvN59xj8Q             \"The New Bell\"    Newington   \n",
       "119994  Jxbw1bIsLvZ3UAvN59xj8Q             \"The New Bell\"    Newington   \n",
       "119995  Jxbw1bIsLvZ3UAvN59xj8Q             \"The New Bell\"    Newington   \n",
       "119996  Jxbw1bIsLvZ3UAvN59xj8Q             \"The New Bell\"    Newington   \n",
       "119997  Jxbw1bIsLvZ3UAvN59xj8Q             \"The New Bell\"    Newington   \n",
       "\n",
       "                              address       city state postal_code   latitude  \\\n",
       "0                  \"3017 Kilborne Dr\"  Charlotte    NC       28205  35.214618   \n",
       "1                  \"3017 Kilborne Dr\"  Charlotte    NC       28205  35.214618   \n",
       "2                  \"3017 Kilborne Dr\"  Charlotte    NC       28205  35.214618   \n",
       "3       \"9905 S Eastern Ave, Ste 140\"  Las Vegas    NV       89183  36.010086   \n",
       "4       \"9905 S Eastern Ave, Ste 140\"  Las Vegas    NV       89183  36.010086   \n",
       "...                               ...        ...   ...         ...        ...   \n",
       "119993         \"233-235 Causewayside\"  Edinburgh   EDH     EH9 1PH  55.934965   \n",
       "119994         \"233-235 Causewayside\"  Edinburgh   EDH     EH9 1PH  55.934965   \n",
       "119995         \"233-235 Causewayside\"  Edinburgh   EDH     EH9 1PH  55.934965   \n",
       "119996         \"233-235 Causewayside\"  Edinburgh   EDH     EH9 1PH  55.934965   \n",
       "119997         \"233-235 Causewayside\"  Edinburgh   EDH     EH9 1PH  55.934965   \n",
       "\n",
       "         longitude  avg_stars  ...  is_open  \\\n",
       "0       -80.770211        4.5  ...        1   \n",
       "1       -80.770211        4.5  ...        1   \n",
       "2       -80.770211        4.5  ...        1   \n",
       "3      -115.118656        4.5  ...        1   \n",
       "4      -115.118656        4.5  ...        1   \n",
       "...            ...        ...  ...      ...   \n",
       "119993   -3.179002        4.5  ...        1   \n",
       "119994   -3.179002        4.5  ...        1   \n",
       "119995   -3.179002        4.5  ...        1   \n",
       "119996   -3.179002        4.5  ...        1   \n",
       "119997   -3.179002        4.5  ...        1   \n",
       "\n",
       "                                 categories               review_id  \\\n",
       "0       Seafood Markets;Food;Specialty Food  gIGNJQQyQnJ-P-OJWu-a7w   \n",
       "1       Seafood Markets;Food;Specialty Food  nuPTQPA0lPY2jLl2NZLrrg   \n",
       "2       Seafood Markets;Food;Specialty Food  WmL_v5CfVMc2crl22gMHWg   \n",
       "3         Seafood;Italian;Pizza;Restaurants  g8yoM5RkDL2HTpk07jkYCg   \n",
       "4         Seafood;Italian;Pizza;Restaurants  2-lACtC5w76LRGXlE3c-UQ   \n",
       "...                                     ...                     ...   \n",
       "119993          Seafood;Italian;Restaurants  xE6BhU7eUsOl9hfV4bevFQ   \n",
       "119994          Seafood;Italian;Restaurants  MdlEC7QVkRGP1IaBz45naw   \n",
       "119995          Seafood;Italian;Restaurants  aGoSH3BRK-bMm2FhAZRvlg   \n",
       "119996          Seafood;Italian;Restaurants  FrNRdjy8r3grsVdfpBOcZw   \n",
       "119997          Seafood;Italian;Restaurants  KTj5pP0Ey9Lq-Gf1HZK2HQ   \n",
       "\n",
       "                       user_id review_stars        date  \\\n",
       "0       yCaDISH0R8e5U376zDWTpQ            5  2014-01-21   \n",
       "1       ulHMcirOj_xRV9GkGV2HRA            5  2014-11-10   \n",
       "2       9IRuYmy5YmhtNQ6ei1p-uQ            4  2010-11-22   \n",
       "3       oFyOUOeGTRZhFPF9uTqrTQ            5  2016-12-13   \n",
       "4       RSLTG7N0wYJhRTW5CGEm5Q            5  2017-09-22   \n",
       "...                        ...          ...         ...   \n",
       "119993  NeYPCyHw0Tp67N1ebDCnjw            4  2012-09-14   \n",
       "119994  Cy1PV2TdYeDFA16mUOlr3Q            4  2010-06-11   \n",
       "119995  zF-hK3107dbCR9vW_kRTWg            4  2011-04-07   \n",
       "119996  iCNZXVbsmPomY-SiAXYklw            5  2012-10-13   \n",
       "119997  mJJj_SZff6MEWG5Vx1r8Bg            5  2010-05-07   \n",
       "\n",
       "                                                     text useful  funny  cool  \n",
       "0       I have been coming to this seafood spot off an...      2      0     0  \n",
       "1       I absolutely love this place. This is where oi...      0      0     0  \n",
       "2       Dockside has been a fresh seafood staple on th...      5      1     2  \n",
       "3       Went in for the first time tonight and within ...      0      0     1  \n",
       "4       Hands down this is Las Vegas best mom and pop ...      2      1     1  \n",
       "...                                                   ...    ...    ...   ...  \n",
       "119993  The restaurant has recently moved their cuisin...      2      0     0  \n",
       "119994  The contrast of the Old and New Bell is really...      2      0     0  \n",
       "119995  Been to the New Bell once and thoroughly enjoy...      1      0     0  \n",
       "119996  Went to the New Bell on Tuesday. Fantastic ser...      1      0     1  \n",
       "119997  The New Bell is a fine-dining restaurant that ...      1      0     0  \n",
       "\n",
       "[119998 rows x 21 columns]"
      ]
     },
     "execution_count": 113,
     "metadata": {},
     "output_type": "execute_result"
    }
   ],
   "source": [
    "restaurant_reviews"
   ]
  },
  {
   "cell_type": "code",
   "execution_count": 114,
   "id": "a8a0e96e",
   "metadata": {},
   "outputs": [],
   "source": [
    "restaurant_reviews.to_csv(\n",
    "    'processed_datasets/1_restaurant_reviews_cleaned.csv')"
   ]
  },
  {
   "cell_type": "markdown",
   "id": "42005629",
   "metadata": {},
   "source": [
    "## Text Sentiment Analysis"
   ]
  },
  {
   "cell_type": "code",
   "execution_count": 2,
   "id": "d74ecff7",
   "metadata": {},
   "outputs": [],
   "source": [
    "import regex as re\n",
    "import string\n",
    "\n",
    "from wordcloud import WordCloud\n",
    "\n",
    "from textblob import TextBlob, Word\n",
    "\n",
    "import nltk\n",
    "from nltk.stem import WordNetLemmatizer\n",
    "from nltk.corpus import stopwords"
   ]
  },
  {
   "cell_type": "code",
   "execution_count": 119,
   "id": "910abe4a",
   "metadata": {},
   "outputs": [],
   "source": [
    "restaurant_reviews = pd.read_csv(\n",
    "    'processed_datasets/1_restaurant_reviews_cleaned.csv')"
   ]
  },
  {
   "cell_type": "code",
   "execution_count": 120,
   "id": "4da65cae",
   "metadata": {},
   "outputs": [
    {
     "name": "stdout",
     "output_type": "stream",
     "text": [
      "<class 'pandas.core.frame.DataFrame'>\n",
      "RangeIndex: 119998 entries, 0 to 119997\n",
      "Data columns (total 22 columns):\n",
      " #   Column        Non-Null Count   Dtype  \n",
      "---  ------        --------------   -----  \n",
      " 0   Unnamed: 0    119998 non-null  int64  \n",
      " 1   business_id   119998 non-null  object \n",
      " 2   name          119998 non-null  object \n",
      " 3   neighborhood  119998 non-null  object \n",
      " 4   address       119998 non-null  object \n",
      " 5   city          119998 non-null  object \n",
      " 6   state         119998 non-null  object \n",
      " 7   postal_code   119998 non-null  object \n",
      " 8   latitude      119998 non-null  float64\n",
      " 9   longitude     119998 non-null  float64\n",
      " 10  avg_stars     119998 non-null  float64\n",
      " 11  review_count  119998 non-null  int64  \n",
      " 12  is_open       119998 non-null  int64  \n",
      " 13  categories    119998 non-null  object \n",
      " 14  review_id     119998 non-null  object \n",
      " 15  user_id       119998 non-null  object \n",
      " 16  review_stars  119998 non-null  int64  \n",
      " 17  date          119998 non-null  object \n",
      " 18  text          119998 non-null  object \n",
      " 19  useful        119998 non-null  int64  \n",
      " 20  funny         119998 non-null  int64  \n",
      " 21  cool          119998 non-null  int64  \n",
      "dtypes: float64(3), int64(7), object(12)\n",
      "memory usage: 20.1+ MB\n"
     ]
    }
   ],
   "source": [
    "restaurant_reviews.info()"
   ]
  },
  {
   "cell_type": "markdown",
   "id": "d881a74f",
   "metadata": {},
   "source": [
    "### Assigning Sentiment Based on Review Stars"
   ]
  },
  {
   "cell_type": "code",
   "execution_count": 121,
   "id": "16e86e93",
   "metadata": {},
   "outputs": [],
   "source": [
    "restaurant_reviews.loc[restaurant_reviews['review_stars']\n",
    "                       == 3, 'sentiment'] = 'neutral'\n",
    "restaurant_reviews.loc[restaurant_reviews['review_stars']\n",
    "                       < 3, 'sentiment'] = 'negative'\n",
    "restaurant_reviews.loc[restaurant_reviews['review_stars']\n",
    "                       > 3, 'sentiment'] = 'positive'"
   ]
  },
  {
   "cell_type": "markdown",
   "id": "29a9e77b",
   "metadata": {},
   "source": [
    "### Remove Special Characters"
   ]
  },
  {
   "cell_type": "code",
   "execution_count": 122,
   "id": "702c8af9",
   "metadata": {},
   "outputs": [],
   "source": [
    "restaurant_reviews['text'] = restaurant_reviews['text'].str.lower()\n",
    "restaurant_reviews['text'] = restaurant_reviews['text'].str.replace(\n",
    "    '\\n', ' ').str.replace('\\r', '')\n",
    "restaurant_reviews['text'] = restaurant_reviews['text'].str.replace(\n",
    "    r'[0-9]', '', regex=True)\n",
    "restaurant_reviews['text'] = restaurant_reviews['text'].str.replace(\n",
    "    '['+string.punctuation+']', '', regex=True)"
   ]
  },
  {
   "cell_type": "markdown",
   "id": "f4b64fb0",
   "metadata": {},
   "source": [
    "### Calculating Polarity and Subjectivity"
   ]
  },
  {
   "cell_type": "code",
   "execution_count": 123,
   "id": "107b125a",
   "metadata": {},
   "outputs": [],
   "source": [
    "polarity = restaurant_reviews['text'].apply(lambda x: TextBlob(x).sentiment)"
   ]
  },
  {
   "cell_type": "code",
   "execution_count": 124,
   "id": "d5424d83",
   "metadata": {},
   "outputs": [],
   "source": [
    "polarity_df = pd.DataFrame(polarity.to_list())"
   ]
  },
  {
   "cell_type": "code",
   "execution_count": 125,
   "id": "a3222440",
   "metadata": {},
   "outputs": [],
   "source": [
    "restaurant_reviews[['polarity', 'subjectivity']\n",
    "                   ] = polarity_df[['polarity', 'subjectivity']]"
   ]
  },
  {
   "cell_type": "code",
   "execution_count": 126,
   "id": "9c5faae4",
   "metadata": {},
   "outputs": [
    {
     "data": {
      "text/html": [
       "<div>\n",
       "<style scoped>\n",
       "    .dataframe tbody tr th:only-of-type {\n",
       "        vertical-align: middle;\n",
       "    }\n",
       "\n",
       "    .dataframe tbody tr th {\n",
       "        vertical-align: top;\n",
       "    }\n",
       "\n",
       "    .dataframe thead th {\n",
       "        text-align: right;\n",
       "    }\n",
       "</style>\n",
       "<table border=\"1\" class=\"dataframe\">\n",
       "  <thead>\n",
       "    <tr style=\"text-align: right;\">\n",
       "      <th></th>\n",
       "      <th>name</th>\n",
       "      <th>review_stars</th>\n",
       "      <th>text</th>\n",
       "      <th>sentiment</th>\n",
       "      <th>polarity</th>\n",
       "      <th>subjectivity</th>\n",
       "    </tr>\n",
       "  </thead>\n",
       "  <tbody>\n",
       "    <tr>\n",
       "      <th>0</th>\n",
       "      <td>\"Dockside Seafood Market\"</td>\n",
       "      <td>5</td>\n",
       "      <td>i have been coming to this seafood spot off an...</td>\n",
       "      <td>positive</td>\n",
       "      <td>0.186538</td>\n",
       "      <td>0.596795</td>\n",
       "    </tr>\n",
       "    <tr>\n",
       "      <th>1</th>\n",
       "      <td>\"Dockside Seafood Market\"</td>\n",
       "      <td>5</td>\n",
       "      <td>i absolutely love this place this is where oil...</td>\n",
       "      <td>positive</td>\n",
       "      <td>0.176667</td>\n",
       "      <td>0.568333</td>\n",
       "    </tr>\n",
       "    <tr>\n",
       "      <th>2</th>\n",
       "      <td>\"Dockside Seafood Market\"</td>\n",
       "      <td>4</td>\n",
       "      <td>dockside has been a fresh seafood staple on th...</td>\n",
       "      <td>positive</td>\n",
       "      <td>0.187037</td>\n",
       "      <td>0.547222</td>\n",
       "    </tr>\n",
       "    <tr>\n",
       "      <th>3</th>\n",
       "      <td>\"Trattoria Italia\"</td>\n",
       "      <td>5</td>\n",
       "      <td>went in for the first time tonight and within ...</td>\n",
       "      <td>positive</td>\n",
       "      <td>0.376623</td>\n",
       "      <td>0.536472</td>\n",
       "    </tr>\n",
       "    <tr>\n",
       "      <th>4</th>\n",
       "      <td>\"Trattoria Italia\"</td>\n",
       "      <td>5</td>\n",
       "      <td>hands down this is las vegas best mom and pop ...</td>\n",
       "      <td>positive</td>\n",
       "      <td>0.089909</td>\n",
       "      <td>0.408390</td>\n",
       "    </tr>\n",
       "    <tr>\n",
       "      <th>...</th>\n",
       "      <td>...</td>\n",
       "      <td>...</td>\n",
       "      <td>...</td>\n",
       "      <td>...</td>\n",
       "      <td>...</td>\n",
       "      <td>...</td>\n",
       "    </tr>\n",
       "    <tr>\n",
       "      <th>119993</th>\n",
       "      <td>\"The New Bell\"</td>\n",
       "      <td>4</td>\n",
       "      <td>the restaurant has recently moved their cuisin...</td>\n",
       "      <td>positive</td>\n",
       "      <td>0.185870</td>\n",
       "      <td>0.388354</td>\n",
       "    </tr>\n",
       "    <tr>\n",
       "      <th>119994</th>\n",
       "      <td>\"The New Bell\"</td>\n",
       "      <td>4</td>\n",
       "      <td>the contrast of the old and new bell is really...</td>\n",
       "      <td>positive</td>\n",
       "      <td>0.256578</td>\n",
       "      <td>0.482225</td>\n",
       "    </tr>\n",
       "    <tr>\n",
       "      <th>119995</th>\n",
       "      <td>\"The New Bell\"</td>\n",
       "      <td>4</td>\n",
       "      <td>been to the new bell once and thoroughly enjoy...</td>\n",
       "      <td>positive</td>\n",
       "      <td>0.272727</td>\n",
       "      <td>0.550758</td>\n",
       "    </tr>\n",
       "    <tr>\n",
       "      <th>119996</th>\n",
       "      <td>\"The New Bell\"</td>\n",
       "      <td>5</td>\n",
       "      <td>went to the new bell on tuesday fantastic serv...</td>\n",
       "      <td>positive</td>\n",
       "      <td>0.325505</td>\n",
       "      <td>0.509091</td>\n",
       "    </tr>\n",
       "    <tr>\n",
       "      <th>119997</th>\n",
       "      <td>\"The New Bell\"</td>\n",
       "      <td>5</td>\n",
       "      <td>the new bell is a finedining restaurant that s...</td>\n",
       "      <td>positive</td>\n",
       "      <td>0.349848</td>\n",
       "      <td>0.613636</td>\n",
       "    </tr>\n",
       "  </tbody>\n",
       "</table>\n",
       "<p>119998 rows × 6 columns</p>\n",
       "</div>"
      ],
      "text/plain": [
       "                             name  review_stars  \\\n",
       "0       \"Dockside Seafood Market\"             5   \n",
       "1       \"Dockside Seafood Market\"             5   \n",
       "2       \"Dockside Seafood Market\"             4   \n",
       "3              \"Trattoria Italia\"             5   \n",
       "4              \"Trattoria Italia\"             5   \n",
       "...                           ...           ...   \n",
       "119993             \"The New Bell\"             4   \n",
       "119994             \"The New Bell\"             4   \n",
       "119995             \"The New Bell\"             4   \n",
       "119996             \"The New Bell\"             5   \n",
       "119997             \"The New Bell\"             5   \n",
       "\n",
       "                                                     text sentiment  polarity  \\\n",
       "0       i have been coming to this seafood spot off an...  positive  0.186538   \n",
       "1       i absolutely love this place this is where oil...  positive  0.176667   \n",
       "2       dockside has been a fresh seafood staple on th...  positive  0.187037   \n",
       "3       went in for the first time tonight and within ...  positive  0.376623   \n",
       "4       hands down this is las vegas best mom and pop ...  positive  0.089909   \n",
       "...                                                   ...       ...       ...   \n",
       "119993  the restaurant has recently moved their cuisin...  positive  0.185870   \n",
       "119994  the contrast of the old and new bell is really...  positive  0.256578   \n",
       "119995  been to the new bell once and thoroughly enjoy...  positive  0.272727   \n",
       "119996  went to the new bell on tuesday fantastic serv...  positive  0.325505   \n",
       "119997  the new bell is a finedining restaurant that s...  positive  0.349848   \n",
       "\n",
       "        subjectivity  \n",
       "0           0.596795  \n",
       "1           0.568333  \n",
       "2           0.547222  \n",
       "3           0.536472  \n",
       "4           0.408390  \n",
       "...              ...  \n",
       "119993      0.388354  \n",
       "119994      0.482225  \n",
       "119995      0.550758  \n",
       "119996      0.509091  \n",
       "119997      0.613636  \n",
       "\n",
       "[119998 rows x 6 columns]"
      ]
     },
     "execution_count": 126,
     "metadata": {},
     "output_type": "execute_result"
    }
   ],
   "source": [
    "restaurant_reviews[['name', 'review_stars', 'text',\n",
    "                    'sentiment', 'polarity', 'subjectivity']]"
   ]
  },
  {
   "cell_type": "markdown",
   "id": "f04b22d9",
   "metadata": {},
   "source": [
    "### Creating a wordcloud based on reviews"
   ]
  },
  {
   "cell_type": "code",
   "execution_count": 127,
   "id": "0f4f31e4",
   "metadata": {},
   "outputs": [],
   "source": [
    "reviews_text = ' '.join(review for review in restaurant_reviews['text'])"
   ]
  },
  {
   "cell_type": "code",
   "execution_count": 128,
   "id": "35937da8",
   "metadata": {},
   "outputs": [
    {
     "data": {
      "image/png": "[encoded data removed]",
      "text/plain": [
       "<Figure size 432x288 with 1 Axes>"
      ]
     },
     "metadata": {
      "needs_background": "light"
     },
     "output_type": "display_data"
    }
   ],
   "source": [
    "wc = WordCloud(background_color=\"white\", max_font_size=70, max_words=150)\n",
    "wc.generate(reviews_text)\n",
    "plt.imshow(wc)\n",
    "plt.axis(\"off\")\n",
    "plt.title('Word Cloud of Reviews')\n",
    "plt.show()"
   ]
  },
  {
   "cell_type": "markdown",
   "id": "8a6c8717",
   "metadata": {},
   "source": [
    "### Tokenizing and Lemmatizing"
   ]
  },
  {
   "cell_type": "code",
   "execution_count": 129,
   "id": "788f8112",
   "metadata": {},
   "outputs": [],
   "source": [
    "restaurant_reviews['tokenized_words'] = restaurant_reviews['text'].apply(\n",
    "    lambda x: nltk.word_tokenize(x))"
   ]
  },
  {
   "cell_type": "code",
   "execution_count": 130,
   "id": "527f1873",
   "metadata": {},
   "outputs": [],
   "source": [
    "lemmetizer_output = WordNetLemmatizer()\n",
    "restaurant_reviews['tokenized_words'] = restaurant_reviews['tokenized_words'].apply(\n",
    "    lambda x: [lemmetizer_output.lemmatize(j) for j in x if not j in set(stopwords.words('english'))])"
   ]
  },
  {
   "cell_type": "code",
   "execution_count": 131,
   "id": "a8725981",
   "metadata": {},
   "outputs": [],
   "source": [
    "restaurant_reviews.to_csv('processed_datasets/2_restaurant_reviews_text_analysis.csv')"
   ]
  },
  {
   "cell_type": "code",
   "execution_count": 134,
   "id": "3632079c",
   "metadata": {},
   "outputs": [],
   "source": [
    "restaurant_reviews['tokenized_words']=restaurant_reviews['tokenized_words'].apply(lambda x: ' '.join(x))"
   ]
  },
  {
   "cell_type": "code",
   "execution_count": 135,
   "id": "aa53077f",
   "metadata": {},
   "outputs": [
    {
     "data": {
      "text/plain": [
       "0         coming seafood spot since moving charlotte inq...\n",
       "1         absolutely love place oil prefer buy seafood h...\n",
       "2         dockside fresh seafood staple eastside charlot...\n",
       "3         went first time tonight within first bite garl...\n",
       "4         hand la vega best mom pop style italian cuisin...\n",
       "                                ...                        \n",
       "119993    restaurant recently moved cuisine italian rath...\n",
       "119994    contrast old new bell really interesting initi...\n",
       "119995    new bell thoroughly enjoyed great quality food...\n",
       "119996    went new bell tuesday fantastic service even b...\n",
       "119997    new bell finedining restaurant sits old bell i...\n",
       "Name: tokenized_words, Length: 119998, dtype: object"
      ]
     },
     "execution_count": 135,
     "metadata": {},
     "output_type": "execute_result"
    }
   ],
   "source": [
    "restaurant_reviews['tokenized_words']"
   ]
  },
  {
   "cell_type": "code",
   "execution_count": 136,
   "id": "24a42579",
   "metadata": {},
   "outputs": [],
   "source": [
    "restaurant_reviews.to_csv('processed_datasets/2_restaurant_reviews_text_analysis.csv')"
   ]
  },
  {
   "cell_type": "markdown",
   "id": "334a2e65",
   "metadata": {},
   "source": [
    "## Vectorization"
   ]
  },
  {
   "cell_type": "code",
   "execution_count": 3,
   "id": "71dff93c",
   "metadata": {},
   "outputs": [],
   "source": [
    "from sklearn.feature_extraction.text import CountVectorizer\n",
    "from sklearn.model_selection import train_test_split"
   ]
  },
  {
   "cell_type": "code",
   "execution_count": 4,
   "id": "8cdeb7dd",
   "metadata": {},
   "outputs": [],
   "source": [
    "restaurant_reviews = pd.read_csv('processed_datasets/2_restaurant_reviews_text_analysis.csv')"
   ]
  },
  {
   "cell_type": "code",
   "execution_count": 5,
   "id": "024dcc66",
   "metadata": {},
   "outputs": [],
   "source": [
    "threshold = 3.5\n",
    "restaurant_reviews['target'] = restaurant_reviews['avg_stars'].apply(lambda x: 1 if x >= threshold else 0)"
   ]
  },
  {
   "cell_type": "code",
   "execution_count": 58,
   "id": "30cb2605",
   "metadata": {},
   "outputs": [],
   "source": [
    "features=['business_id','name','city','state','postal_code','avg_stars','review_count','review_stars','tokenized_words','target']\n",
    "restaurants=restaurant_reviews.loc[:,features]"
   ]
  },
  {
   "cell_type": "code",
   "execution_count": 59,
   "id": "b1482635",
   "metadata": {},
   "outputs": [
    {
     "data": {
      "text/html": [
       "<div>\n",
       "<style scoped>\n",
       "    .dataframe tbody tr th:only-of-type {\n",
       "        vertical-align: middle;\n",
       "    }\n",
       "\n",
       "    .dataframe tbody tr th {\n",
       "        vertical-align: top;\n",
       "    }\n",
       "\n",
       "    .dataframe thead th {\n",
       "        text-align: right;\n",
       "    }\n",
       "</style>\n",
       "<table border=\"1\" class=\"dataframe\">\n",
       "  <thead>\n",
       "    <tr style=\"text-align: right;\">\n",
       "      <th></th>\n",
       "      <th>business_id</th>\n",
       "      <th>name</th>\n",
       "      <th>city</th>\n",
       "      <th>state</th>\n",
       "      <th>postal_code</th>\n",
       "      <th>avg_stars</th>\n",
       "      <th>review_count</th>\n",
       "      <th>review_stars</th>\n",
       "      <th>tokenized_words</th>\n",
       "      <th>target</th>\n",
       "    </tr>\n",
       "  </thead>\n",
       "  <tbody>\n",
       "    <tr>\n",
       "      <th>0</th>\n",
       "      <td>xMP2oDrKFqyUrN0Uww85EQ</td>\n",
       "      <td>\"Dockside Seafood Market\"</td>\n",
       "      <td>Charlotte</td>\n",
       "      <td>NC</td>\n",
       "      <td>28205</td>\n",
       "      <td>4.5</td>\n",
       "      <td>3</td>\n",
       "      <td>5</td>\n",
       "      <td>coming seafood spot since moving charlotte inq...</td>\n",
       "      <td>1</td>\n",
       "    </tr>\n",
       "    <tr>\n",
       "      <th>1</th>\n",
       "      <td>xMP2oDrKFqyUrN0Uww85EQ</td>\n",
       "      <td>\"Dockside Seafood Market\"</td>\n",
       "      <td>Charlotte</td>\n",
       "      <td>NC</td>\n",
       "      <td>28205</td>\n",
       "      <td>4.5</td>\n",
       "      <td>3</td>\n",
       "      <td>5</td>\n",
       "      <td>absolutely love place oil prefer buy seafood h...</td>\n",
       "      <td>1</td>\n",
       "    </tr>\n",
       "    <tr>\n",
       "      <th>2</th>\n",
       "      <td>xMP2oDrKFqyUrN0Uww85EQ</td>\n",
       "      <td>\"Dockside Seafood Market\"</td>\n",
       "      <td>Charlotte</td>\n",
       "      <td>NC</td>\n",
       "      <td>28205</td>\n",
       "      <td>4.5</td>\n",
       "      <td>3</td>\n",
       "      <td>4</td>\n",
       "      <td>dockside fresh seafood staple eastside charlot...</td>\n",
       "      <td>1</td>\n",
       "    </tr>\n",
       "    <tr>\n",
       "      <th>3</th>\n",
       "      <td>dPxZI9lrKTl5dvFfnb1_Ig</td>\n",
       "      <td>\"Trattoria Italia\"</td>\n",
       "      <td>Las Vegas</td>\n",
       "      <td>NV</td>\n",
       "      <td>89183</td>\n",
       "      <td>4.5</td>\n",
       "      <td>210</td>\n",
       "      <td>5</td>\n",
       "      <td>went first time tonight within first bite garl...</td>\n",
       "      <td>1</td>\n",
       "    </tr>\n",
       "    <tr>\n",
       "      <th>4</th>\n",
       "      <td>dPxZI9lrKTl5dvFfnb1_Ig</td>\n",
       "      <td>\"Trattoria Italia\"</td>\n",
       "      <td>Las Vegas</td>\n",
       "      <td>NV</td>\n",
       "      <td>89183</td>\n",
       "      <td>4.5</td>\n",
       "      <td>210</td>\n",
       "      <td>5</td>\n",
       "      <td>hand la vega best mom pop style italian cuisin...</td>\n",
       "      <td>1</td>\n",
       "    </tr>\n",
       "    <tr>\n",
       "      <th>...</th>\n",
       "      <td>...</td>\n",
       "      <td>...</td>\n",
       "      <td>...</td>\n",
       "      <td>...</td>\n",
       "      <td>...</td>\n",
       "      <td>...</td>\n",
       "      <td>...</td>\n",
       "      <td>...</td>\n",
       "      <td>...</td>\n",
       "      <td>...</td>\n",
       "    </tr>\n",
       "    <tr>\n",
       "      <th>119993</th>\n",
       "      <td>Jxbw1bIsLvZ3UAvN59xj8Q</td>\n",
       "      <td>\"The New Bell\"</td>\n",
       "      <td>Edinburgh</td>\n",
       "      <td>EDH</td>\n",
       "      <td>EH9 1PH</td>\n",
       "      <td>4.5</td>\n",
       "      <td>7</td>\n",
       "      <td>4</td>\n",
       "      <td>restaurant recently moved cuisine italian rath...</td>\n",
       "      <td>1</td>\n",
       "    </tr>\n",
       "    <tr>\n",
       "      <th>119994</th>\n",
       "      <td>Jxbw1bIsLvZ3UAvN59xj8Q</td>\n",
       "      <td>\"The New Bell\"</td>\n",
       "      <td>Edinburgh</td>\n",
       "      <td>EDH</td>\n",
       "      <td>EH9 1PH</td>\n",
       "      <td>4.5</td>\n",
       "      <td>7</td>\n",
       "      <td>4</td>\n",
       "      <td>contrast old new bell really interesting initi...</td>\n",
       "      <td>1</td>\n",
       "    </tr>\n",
       "    <tr>\n",
       "      <th>119995</th>\n",
       "      <td>Jxbw1bIsLvZ3UAvN59xj8Q</td>\n",
       "      <td>\"The New Bell\"</td>\n",
       "      <td>Edinburgh</td>\n",
       "      <td>EDH</td>\n",
       "      <td>EH9 1PH</td>\n",
       "      <td>4.5</td>\n",
       "      <td>7</td>\n",
       "      <td>4</td>\n",
       "      <td>new bell thoroughly enjoyed great quality food...</td>\n",
       "      <td>1</td>\n",
       "    </tr>\n",
       "    <tr>\n",
       "      <th>119996</th>\n",
       "      <td>Jxbw1bIsLvZ3UAvN59xj8Q</td>\n",
       "      <td>\"The New Bell\"</td>\n",
       "      <td>Edinburgh</td>\n",
       "      <td>EDH</td>\n",
       "      <td>EH9 1PH</td>\n",
       "      <td>4.5</td>\n",
       "      <td>7</td>\n",
       "      <td>5</td>\n",
       "      <td>went new bell tuesday fantastic service even b...</td>\n",
       "      <td>1</td>\n",
       "    </tr>\n",
       "    <tr>\n",
       "      <th>119997</th>\n",
       "      <td>Jxbw1bIsLvZ3UAvN59xj8Q</td>\n",
       "      <td>\"The New Bell\"</td>\n",
       "      <td>Edinburgh</td>\n",
       "      <td>EDH</td>\n",
       "      <td>EH9 1PH</td>\n",
       "      <td>4.5</td>\n",
       "      <td>7</td>\n",
       "      <td>5</td>\n",
       "      <td>new bell finedining restaurant sits old bell i...</td>\n",
       "      <td>1</td>\n",
       "    </tr>\n",
       "  </tbody>\n",
       "</table>\n",
       "<p>119998 rows × 10 columns</p>\n",
       "</div>"
      ],
      "text/plain": [
       "                   business_id                       name       city state  \\\n",
       "0       xMP2oDrKFqyUrN0Uww85EQ  \"Dockside Seafood Market\"  Charlotte    NC   \n",
       "1       xMP2oDrKFqyUrN0Uww85EQ  \"Dockside Seafood Market\"  Charlotte    NC   \n",
       "2       xMP2oDrKFqyUrN0Uww85EQ  \"Dockside Seafood Market\"  Charlotte    NC   \n",
       "3       dPxZI9lrKTl5dvFfnb1_Ig         \"Trattoria Italia\"  Las Vegas    NV   \n",
       "4       dPxZI9lrKTl5dvFfnb1_Ig         \"Trattoria Italia\"  Las Vegas    NV   \n",
       "...                        ...                        ...        ...   ...   \n",
       "119993  Jxbw1bIsLvZ3UAvN59xj8Q             \"The New Bell\"  Edinburgh   EDH   \n",
       "119994  Jxbw1bIsLvZ3UAvN59xj8Q             \"The New Bell\"  Edinburgh   EDH   \n",
       "119995  Jxbw1bIsLvZ3UAvN59xj8Q             \"The New Bell\"  Edinburgh   EDH   \n",
       "119996  Jxbw1bIsLvZ3UAvN59xj8Q             \"The New Bell\"  Edinburgh   EDH   \n",
       "119997  Jxbw1bIsLvZ3UAvN59xj8Q             \"The New Bell\"  Edinburgh   EDH   \n",
       "\n",
       "       postal_code  avg_stars  review_count  review_stars  \\\n",
       "0            28205        4.5             3             5   \n",
       "1            28205        4.5             3             5   \n",
       "2            28205        4.5             3             4   \n",
       "3            89183        4.5           210             5   \n",
       "4            89183        4.5           210             5   \n",
       "...            ...        ...           ...           ...   \n",
       "119993     EH9 1PH        4.5             7             4   \n",
       "119994     EH9 1PH        4.5             7             4   \n",
       "119995     EH9 1PH        4.5             7             4   \n",
       "119996     EH9 1PH        4.5             7             5   \n",
       "119997     EH9 1PH        4.5             7             5   \n",
       "\n",
       "                                          tokenized_words  target  \n",
       "0       coming seafood spot since moving charlotte inq...       1  \n",
       "1       absolutely love place oil prefer buy seafood h...       1  \n",
       "2       dockside fresh seafood staple eastside charlot...       1  \n",
       "3       went first time tonight within first bite garl...       1  \n",
       "4       hand la vega best mom pop style italian cuisin...       1  \n",
       "...                                                   ...     ...  \n",
       "119993  restaurant recently moved cuisine italian rath...       1  \n",
       "119994  contrast old new bell really interesting initi...       1  \n",
       "119995  new bell thoroughly enjoyed great quality food...       1  \n",
       "119996  went new bell tuesday fantastic service even b...       1  \n",
       "119997  new bell finedining restaurant sits old bell i...       1  \n",
       "\n",
       "[119998 rows x 10 columns]"
      ]
     },
     "execution_count": 59,
     "metadata": {},
     "output_type": "execute_result"
    }
   ],
   "source": [
    "restaurants"
   ]
  },
  {
   "cell_type": "code",
   "execution_count": 8,
   "id": "26f92881",
   "metadata": {},
   "outputs": [],
   "source": [
    "X=restaurants.drop('target',axis=1)\n",
    "y=restaurants['target'].values"
   ]
  },
  {
   "cell_type": "code",
   "execution_count": 9,
   "id": "4902102e",
   "metadata": {},
   "outputs": [],
   "source": [
    "def vectorize_data(data):\n",
    "    fitted_vector=CountVectorizer().fit(data)\n",
    "    transformed_data=fitted_vector.transform(data)\n",
    "    return transformed_data"
   ]
  },
  {
   "cell_type": "code",
   "execution_count": 10,
   "id": "7278391b",
   "metadata": {},
   "outputs": [],
   "source": [
    "X=vectorize_data(X['tokenized_words'])"
   ]
  },
  {
   "cell_type": "code",
   "execution_count": 11,
   "id": "3e9b3665",
   "metadata": {},
   "outputs": [],
   "source": [
    "X_train,X_test,y_train,y_test = train_test_split(X,y,test_size=0.2,random_state=20)"
   ]
  },
  {
   "cell_type": "code",
   "execution_count": 12,
   "id": "ccc8f195",
   "metadata": {},
   "outputs": [
    {
     "data": {
      "text/plain": [
       "(95998, 104432)"
      ]
     },
     "execution_count": 12,
     "metadata": {},
     "output_type": "execute_result"
    }
   ],
   "source": [
    "X_train.shape"
   ]
  },
  {
   "cell_type": "code",
   "execution_count": 13,
   "id": "8ca53350",
   "metadata": {},
   "outputs": [
    {
     "data": {
      "text/plain": [
       "(24000, 104432)"
      ]
     },
     "execution_count": 13,
     "metadata": {},
     "output_type": "execute_result"
    }
   ],
   "source": [
    "X_test.shape"
   ]
  },
  {
   "cell_type": "markdown",
   "id": "c8f7c3e0",
   "metadata": {},
   "source": [
    "## Determining the best Classifier"
   ]
  },
  {
   "cell_type": "code",
   "execution_count": 14,
   "id": "7fdc3f2d",
   "metadata": {},
   "outputs": [],
   "source": [
    "import seaborn as sns\n",
    "import numpy as np\n",
    "from sklearn.metrics import confusion_matrix, accuracy_score,precision_score, roc_auc_score, roc_curve\n",
    "from sklearn.metrics import classification_report\n",
    "\n",
    "from sklearn.naive_bayes import MultinomialNB\n",
    "from sklearn.tree import DecisionTreeClassifier\n",
    "from sklearn.linear_model import LogisticRegression\n",
    "from sklearn.preprocessing import StandardScaler\n",
    "from sklearn.pipeline import make_pipeline\n",
    "from sklearn.ensemble import RandomForestClassifier"
   ]
  },
  {
   "cell_type": "markdown",
   "id": "3cd99ac7",
   "metadata": {},
   "source": [
    "### Naive Bayes Classifier"
   ]
  },
  {
   "cell_type": "code",
   "execution_count": 15,
   "id": "026c2275",
   "metadata": {},
   "outputs": [],
   "source": [
    "naive_bayes = MultinomialNB()\n",
    "naive_bayes.fit(X_train,y_train)\n",
    "naive_bayes_predict=naive_bayes.predict(X_test)\n",
    "naive_bayes_cf_matrix=confusion_matrix(y_test,naive_bayes_predict)\n",
    "naive_bayes_accuracy=round(accuracy_score(y_test,naive_bayes_predict)*100,2)\n",
    "naive_bayes_precision=round(precision_score(y_test,naive_bayes_predict)*100,2)\n",
    "naive_bayes_report=classification_report(y_test,naive_bayes_predict)"
   ]
  },
  {
   "cell_type": "markdown",
   "id": "d4fce712",
   "metadata": {},
   "source": [
    "### Logistic Regression"
   ]
  },
  {
   "cell_type": "code",
   "execution_count": 16,
   "id": "01fd6682",
   "metadata": {},
   "outputs": [],
   "source": [
    "logistic_regression=LogisticRegression(solver='lbfgs', max_iter=1000)\n",
    "logistic_regression.fit(X_train,y_train)\n",
    "logisitc_regression_predict=logistic_regression.predict(X_test)\n",
    "logisitc_regression_cf_matrix=confusion_matrix(y_test,logisitc_regression_predict)\n",
    "logisitc_regression_accuracy=round(accuracy_score(y_test,logisitc_regression_predict)*100,2)\n",
    "logisitc_regression_precision=round(precision_score(y_test,logisitc_regression_predict)*100,2)\n",
    "logisitc_regression_report=classification_report(y_test,logisitc_regression_predict)"
   ]
  },
  {
   "cell_type": "markdown",
   "id": "22a40965",
   "metadata": {},
   "source": [
    "### Decision Trees"
   ]
  },
  {
   "cell_type": "code",
   "execution_count": 17,
   "id": "f49de21b",
   "metadata": {},
   "outputs": [],
   "source": [
    "descision_tree = DecisionTreeClassifier(random_state=20,max_depth=100)\n",
    "descision_tree.fit(X_train,y_train)\n",
    "descision_tree_predict = descision_tree.predict(X_test)\n",
    "descision_tree_cf_matrix=confusion_matrix(y_test,descision_tree_predict)\n",
    "descision_tree_accuracy=round(accuracy_score(y_test,descision_tree_predict)*100,2)\n",
    "descision_tree_precision=round(precision_score(y_test,descision_tree_predict)*100,2)\n",
    "descision_tree_report=classification_report(y_test,descision_tree_predict)"
   ]
  },
  {
   "cell_type": "markdown",
   "id": "fad8cdaf",
   "metadata": {},
   "source": [
    "### Random Forest Classifier"
   ]
  },
  {
   "cell_type": "code",
   "execution_count": 18,
   "id": "93f27abc",
   "metadata": {},
   "outputs": [],
   "source": [
    "random_forest = RandomForestClassifier()\n",
    "random_forest.fit(X_train,y_train)\n",
    "random_forest_predict = random_forest.predict(X_test)\n",
    "random_forest_cf_matrix=confusion_matrix(y_test,random_forest_predict)\n",
    "random_forest_accuracy=round(accuracy_score(y_test,random_forest_predict)*100,2)\n",
    "random_forest_precision=round(precision_score(y_test,random_forest_predict)*100,2)\n",
    "random_forest_report=classification_report(y_test,random_forest_predict)"
   ]
  },
  {
   "cell_type": "markdown",
   "id": "aaeb6708",
   "metadata": {},
   "source": [
    "### Results"
   ]
  },
  {
   "cell_type": "markdown",
   "id": "7f5e6d21",
   "metadata": {},
   "source": [
    "#### Confusion Matrices Heatmaps"
   ]
  },
  {
   "cell_type": "code",
   "execution_count": 20,
   "id": "ed582fbf",
   "metadata": {},
   "outputs": [
    {
     "data": {
      "image/png": "[encoded data removed]",
      "text/plain": [
       "<Figure size 864x864 with 8 Axes>"
      ]
     },
     "metadata": {
      "needs_background": "light"
     },
     "output_type": "display_data"
    }
   ],
   "source": [
    "heatmaps = plt.figure(figsize=(12, 12))\n",
    "ax1 = heatmaps.add_subplot(2, 2, 1)\n",
    "ax1.set_title('Naive Bayes Classifier')\n",
    "ax2 = heatmaps.add_subplot(2, 2, 2)\n",
    "ax2.set_title('Logistic Regression')\n",
    "ax3 = heatmaps.add_subplot(2, 2, 3)\n",
    "ax3.set_title('Decision Tree')\n",
    "ax4 = heatmaps.add_subplot(2, 2, 4)\n",
    "ax4.set_title('Random Forest Classifier')\n",
    "sns.heatmap(naive_bayes_cf_matrix/np.sum(naive_bayes_cf_matrix),\n",
    "            annot=True, fmt='.2%', ax=ax1)\n",
    "sns.heatmap(logisitc_regression_cf_matrix /\n",
    "            np.sum(logisitc_regression_cf_matrix), annot=True, fmt='.2%', ax=ax2)\n",
    "sns.heatmap(descision_tree_cf_matrix /\n",
    "            np.sum(descision_tree_cf_matrix), annot=True, fmt='.2%', ax=ax3)\n",
    "sns.heatmap(random_forest_cf_matrix /\n",
    "            np.sum(random_forest_cf_matrix), annot=True, fmt='.2%')\n",
    "plt.show()"
   ]
  },
  {
   "cell_type": "markdown",
   "id": "ea8c1b6f",
   "metadata": {},
   "source": [
    "#### ROC Curves"
   ]
  },
  {
   "cell_type": "code",
   "execution_count": 23,
   "id": "d363abc0",
   "metadata": {
    "scrolled": true
   },
   "outputs": [
    {
     "data": {
      "image/png": "[encoded data removed]",
      "text/plain": [
       "<Figure size 720x720 with 1 Axes>"
      ]
     },
     "metadata": {
      "needs_background": "light"
     },
     "output_type": "display_data"
    }
   ],
   "source": [
    "roc = plt.figure(figsize=(10,10))\n",
    "\n",
    "plt.plot([0,1], [0,1], color='orange', linestyle='--')\n",
    "\n",
    "nb_fpr,nb_tpr,nb_thr=roc_curve(y_test,naive_bayes_predict)\n",
    "nb_auc=roc_auc_score(y_test,naive_bayes_predict)\n",
    "plt.plot(nb_fpr,nb_tpr,label=\"Naive Bayes, AUC=\".format(nb_auc))\n",
    "\n",
    "lr_fpr,lr_tpr,lr_thr=roc_curve(y_test,logisitc_regression_predict)\n",
    "lr_auc=roc_auc_score(y_test,logisitc_regression_predict)\n",
    "plt.plot(lr_fpr,lr_tpr,label=\"Logistic Regression, AUC=\".format(lr_auc))\n",
    "\n",
    "dt_fpr,dt_tpr,dt_thr=roc_curve(y_test,descision_tree_predict)\n",
    "dt_auc=roc_auc_score(y_test,descision_tree_predict)\n",
    "plt.plot(dt_fpr,dt_tpr,label=\"Decison Trees, AUC=\".format(dt_auc))\n",
    "\n",
    "rf_fpr,rf_tpr,rf_thr=roc_curve(y_test,random_forest_predict)\n",
    "rf_auc=roc_auc_score(y_test,random_forest_predict)\n",
    "plt.plot(rf_fpr,rf_tpr,label=\"Random Forst Classifier, AUC=\".format(rf_auc))\n",
    "\n",
    "plt.legend(loc=0)\n",
    "plt.show()"
   ]
  },
  {
   "cell_type": "markdown",
   "id": "c104471d",
   "metadata": {},
   "source": [
    "#### Accuracy Score Comparison"
   ]
  },
  {
   "cell_type": "code",
   "execution_count": 24,
   "id": "ec8bbf1f",
   "metadata": {},
   "outputs": [
    {
     "name": "stdout",
     "output_type": "stream",
     "text": [
      "Naive Bayes Classifier Accuracy= 89.08\n",
      "Logisitic Regression Accuracy= 91.53\n",
      "Decision Trees Accuracy= 89.97\n",
      "Random Forest Classifier Accuracy= 90.29\n"
     ]
    }
   ],
   "source": [
    "print(\"Naive Bayes Classifier Accuracy=\",naive_bayes_accuracy)\n",
    "print(\"Logisitic Regression Accuracy=\",logisitc_regression_accuracy)\n",
    "print(\"Decision Trees Accuracy=\",descision_tree_accuracy)\n",
    "print(\"Random Forest Classifier Accuracy=\",random_forest_accuracy)"
   ]
  },
  {
   "cell_type": "markdown",
   "id": "90d7c8af",
   "metadata": {},
   "source": [
    "From the above result we can conclude that logisitic regression would be the best classifier "
   ]
  },
  {
   "cell_type": "markdown",
   "id": "2f334acc",
   "metadata": {},
   "source": [
    "## Success Prediction"
   ]
  },
  {
   "cell_type": "markdown",
   "id": "4ed0b2a1",
   "metadata": {},
   "source": [
    "### Predicting Success and Probabilty"
   ]
  },
  {
   "cell_type": "code",
   "execution_count": 25,
   "id": "ccced6d3",
   "metadata": {},
   "outputs": [],
   "source": [
    "logistic_regression=LogisticRegression(solver='lbfgs', max_iter=1000)\n",
    "logistic_regression.fit(X_train,y_train)\n",
    "logisitc_regression_predict=logistic_regression.predict(X_test)\n",
    "logisitc_regression_predict_probabilty=logistic_regression.predict_proba(X_test)"
   ]
  },
  {
   "cell_type": "code",
   "execution_count": 60,
   "id": "d098367b",
   "metadata": {},
   "outputs": [],
   "source": [
    "X=restaurants.drop('target',axis=1)\n",
    "y=restaurants['target'].values\n",
    "X_train,X_test,y_train,y_test = train_test_split(X,y,test_size=0.2,random_state=20)\n",
    "test_data=X_test"
   ]
  },
  {
   "cell_type": "code",
   "execution_count": 61,
   "id": "02b8ee45",
   "metadata": {},
   "outputs": [],
   "source": [
    "probabilty_scores=logisitc_regression_predict_probabilty[:,1]"
   ]
  },
  {
   "cell_type": "code",
   "execution_count": 64,
   "id": "2ac0d3b8",
   "metadata": {},
   "outputs": [],
   "source": [
    "test_data=test_data.drop(columns=['success_class','success_probabilty'],axis=1)"
   ]
  },
  {
   "cell_type": "code",
   "execution_count": 65,
   "id": "bd08d8f4",
   "metadata": {},
   "outputs": [],
   "source": [
    "test_data['success_class']=logisitc_regression_predict\n",
    "test_data['success_probabilty']=probabilty_scores"
   ]
  },
  {
   "cell_type": "code",
   "execution_count": 66,
   "id": "3a1d5984",
   "metadata": {},
   "outputs": [
    {
     "data": {
      "text/html": [
       "<div>\n",
       "<style scoped>\n",
       "    .dataframe tbody tr th:only-of-type {\n",
       "        vertical-align: middle;\n",
       "    }\n",
       "\n",
       "    .dataframe tbody tr th {\n",
       "        vertical-align: top;\n",
       "    }\n",
       "\n",
       "    .dataframe thead th {\n",
       "        text-align: right;\n",
       "    }\n",
       "</style>\n",
       "<table border=\"1\" class=\"dataframe\">\n",
       "  <thead>\n",
       "    <tr style=\"text-align: right;\">\n",
       "      <th></th>\n",
       "      <th>business_id</th>\n",
       "      <th>name</th>\n",
       "      <th>city</th>\n",
       "      <th>state</th>\n",
       "      <th>postal_code</th>\n",
       "      <th>avg_stars</th>\n",
       "      <th>review_count</th>\n",
       "      <th>review_stars</th>\n",
       "      <th>tokenized_words</th>\n",
       "      <th>success_class</th>\n",
       "      <th>success_probabilty</th>\n",
       "    </tr>\n",
       "  </thead>\n",
       "  <tbody>\n",
       "    <tr>\n",
       "      <th>85204</th>\n",
       "      <td>KskYqH1Bi7Z_61pH6Om8pg</td>\n",
       "      <td>\"Lotus of Siam\"</td>\n",
       "      <td>Las Vegas</td>\n",
       "      <td>NV</td>\n",
       "      <td>89104</td>\n",
       "      <td>4.0</td>\n",
       "      <td>3964</td>\n",
       "      <td>5</td>\n",
       "      <td>best thai food ever find experience food want ...</td>\n",
       "      <td>1</td>\n",
       "      <td>0.943188</td>\n",
       "    </tr>\n",
       "    <tr>\n",
       "      <th>104764</th>\n",
       "      <td>tJ9-u9MfpVbX4X2miIJ71w</td>\n",
       "      <td>\"Hokkaido Teppanyaki Steak House\"</td>\n",
       "      <td>Las Vegas</td>\n",
       "      <td>NV</td>\n",
       "      <td>89135</td>\n",
       "      <td>4.0</td>\n",
       "      <td>145</td>\n",
       "      <td>5</td>\n",
       "      <td>favorite teppanyaki sushi restaurant la vega o...</td>\n",
       "      <td>1</td>\n",
       "      <td>0.990701</td>\n",
       "    </tr>\n",
       "    <tr>\n",
       "      <th>112071</th>\n",
       "      <td>b42EKdSk61zd_FEqEwioYQ</td>\n",
       "      <td>\"Upstream\"</td>\n",
       "      <td>Charlotte</td>\n",
       "      <td>NC</td>\n",
       "      <td>28210</td>\n",
       "      <td>4.0</td>\n",
       "      <td>203</td>\n",
       "      <td>2</td>\n",
       "      <td>big fan maybe queen fest week menu experience ...</td>\n",
       "      <td>1</td>\n",
       "      <td>0.991875</td>\n",
       "    </tr>\n",
       "    <tr>\n",
       "      <th>52052</th>\n",
       "      <td>R_ZlcX46pPdjhjmfd043LA</td>\n",
       "      <td>\"Top of the World\"</td>\n",
       "      <td>Las Vegas</td>\n",
       "      <td>NV</td>\n",
       "      <td>89104</td>\n",
       "      <td>4.0</td>\n",
       "      <td>1190</td>\n",
       "      <td>3</td>\n",
       "      <td>went top world friend ok steak cooked perfectl...</td>\n",
       "      <td>1</td>\n",
       "      <td>0.999892</td>\n",
       "    </tr>\n",
       "    <tr>\n",
       "      <th>23084</th>\n",
       "      <td>UNI1agsPX2k3eJSJVB91nw</td>\n",
       "      <td>\"Hot N Juicy Crawfish\"</td>\n",
       "      <td>Las Vegas</td>\n",
       "      <td>NV</td>\n",
       "      <td>89102</td>\n",
       "      <td>4.0</td>\n",
       "      <td>1520</td>\n",
       "      <td>4</td>\n",
       "      <td>yowzer think kitchen made mistake served u def...</td>\n",
       "      <td>1</td>\n",
       "      <td>0.923644</td>\n",
       "    </tr>\n",
       "    <tr>\n",
       "      <th>...</th>\n",
       "      <td>...</td>\n",
       "      <td>...</td>\n",
       "      <td>...</td>\n",
       "      <td>...</td>\n",
       "      <td>...</td>\n",
       "      <td>...</td>\n",
       "      <td>...</td>\n",
       "      <td>...</td>\n",
       "      <td>...</td>\n",
       "      <td>...</td>\n",
       "      <td>...</td>\n",
       "    </tr>\n",
       "    <tr>\n",
       "      <th>6722</th>\n",
       "      <td>BjH8Xepc10i6OhCDQdX6og</td>\n",
       "      <td>\"Emeril's New Orleans Fish House\"</td>\n",
       "      <td>Las Vegas</td>\n",
       "      <td>NV</td>\n",
       "      <td>89109</td>\n",
       "      <td>3.5</td>\n",
       "      <td>943</td>\n",
       "      <td>4</td>\n",
       "      <td>bf always come place dinner least trip vega de...</td>\n",
       "      <td>1</td>\n",
       "      <td>0.999985</td>\n",
       "    </tr>\n",
       "    <tr>\n",
       "      <th>23035</th>\n",
       "      <td>UNI1agsPX2k3eJSJVB91nw</td>\n",
       "      <td>\"Hot N Juicy Crawfish\"</td>\n",
       "      <td>Las Vegas</td>\n",
       "      <td>NV</td>\n",
       "      <td>89102</td>\n",
       "      <td>4.0</td>\n",
       "      <td>1520</td>\n",
       "      <td>5</td>\n",
       "      <td>lunch hot n juicy left vega delicious recommen...</td>\n",
       "      <td>1</td>\n",
       "      <td>0.976357</td>\n",
       "    </tr>\n",
       "    <tr>\n",
       "      <th>67353</th>\n",
       "      <td>RKVYQ00LvK0_FO6Ll7lvOg</td>\n",
       "      <td>\"Muddy Waters Oyster Bar\"</td>\n",
       "      <td>Pittsburgh</td>\n",
       "      <td>PA</td>\n",
       "      <td>15206</td>\n",
       "      <td>4.5</td>\n",
       "      <td>278</td>\n",
       "      <td>5</td>\n",
       "      <td>love coming sunday brunch great food friendly ...</td>\n",
       "      <td>1</td>\n",
       "      <td>0.971981</td>\n",
       "    </tr>\n",
       "    <tr>\n",
       "      <th>27121</th>\n",
       "      <td>lYFnZv0MSaGzo3J0azs7gg</td>\n",
       "      <td>\"Clean Catch Fish Market\"</td>\n",
       "      <td>Charlotte</td>\n",
       "      <td>NC</td>\n",
       "      <td>28209</td>\n",
       "      <td>4.0</td>\n",
       "      <td>73</td>\n",
       "      <td>5</td>\n",
       "      <td>finished two best lobster roll ive ever eaten ...</td>\n",
       "      <td>1</td>\n",
       "      <td>0.999428</td>\n",
       "    </tr>\n",
       "    <tr>\n",
       "      <th>67041</th>\n",
       "      <td>fHM09_y3QX3n4a_bIFbk_w</td>\n",
       "      <td>\"Grand Lux Cafe\"</td>\n",
       "      <td>Las Vegas</td>\n",
       "      <td>NV</td>\n",
       "      <td>89109</td>\n",
       "      <td>4.0</td>\n",
       "      <td>1090</td>\n",
       "      <td>1</td>\n",
       "      <td>hard ok eating essentially cheesecake factory ...</td>\n",
       "      <td>1</td>\n",
       "      <td>0.895019</td>\n",
       "    </tr>\n",
       "  </tbody>\n",
       "</table>\n",
       "<p>24000 rows × 11 columns</p>\n",
       "</div>"
      ],
      "text/plain": [
       "                   business_id                               name        city  \\\n",
       "85204   KskYqH1Bi7Z_61pH6Om8pg                    \"Lotus of Siam\"   Las Vegas   \n",
       "104764  tJ9-u9MfpVbX4X2miIJ71w  \"Hokkaido Teppanyaki Steak House\"   Las Vegas   \n",
       "112071  b42EKdSk61zd_FEqEwioYQ                         \"Upstream\"   Charlotte   \n",
       "52052   R_ZlcX46pPdjhjmfd043LA                 \"Top of the World\"   Las Vegas   \n",
       "23084   UNI1agsPX2k3eJSJVB91nw             \"Hot N Juicy Crawfish\"   Las Vegas   \n",
       "...                        ...                                ...         ...   \n",
       "6722    BjH8Xepc10i6OhCDQdX6og  \"Emeril's New Orleans Fish House\"   Las Vegas   \n",
       "23035   UNI1agsPX2k3eJSJVB91nw             \"Hot N Juicy Crawfish\"   Las Vegas   \n",
       "67353   RKVYQ00LvK0_FO6Ll7lvOg          \"Muddy Waters Oyster Bar\"  Pittsburgh   \n",
       "27121   lYFnZv0MSaGzo3J0azs7gg          \"Clean Catch Fish Market\"   Charlotte   \n",
       "67041   fHM09_y3QX3n4a_bIFbk_w                   \"Grand Lux Cafe\"   Las Vegas   \n",
       "\n",
       "       state postal_code  avg_stars  review_count  review_stars  \\\n",
       "85204     NV       89104        4.0          3964             5   \n",
       "104764    NV       89135        4.0           145             5   \n",
       "112071    NC       28210        4.0           203             2   \n",
       "52052     NV       89104        4.0          1190             3   \n",
       "23084     NV       89102        4.0          1520             4   \n",
       "...      ...         ...        ...           ...           ...   \n",
       "6722      NV       89109        3.5           943             4   \n",
       "23035     NV       89102        4.0          1520             5   \n",
       "67353     PA       15206        4.5           278             5   \n",
       "27121     NC       28209        4.0            73             5   \n",
       "67041     NV       89109        4.0          1090             1   \n",
       "\n",
       "                                          tokenized_words  success_class  \\\n",
       "85204   best thai food ever find experience food want ...              1   \n",
       "104764  favorite teppanyaki sushi restaurant la vega o...              1   \n",
       "112071  big fan maybe queen fest week menu experience ...              1   \n",
       "52052   went top world friend ok steak cooked perfectl...              1   \n",
       "23084   yowzer think kitchen made mistake served u def...              1   \n",
       "...                                                   ...            ...   \n",
       "6722    bf always come place dinner least trip vega de...              1   \n",
       "23035   lunch hot n juicy left vega delicious recommen...              1   \n",
       "67353   love coming sunday brunch great food friendly ...              1   \n",
       "27121   finished two best lobster roll ive ever eaten ...              1   \n",
       "67041   hard ok eating essentially cheesecake factory ...              1   \n",
       "\n",
       "        success_probabilty  \n",
       "85204             0.943188  \n",
       "104764            0.990701  \n",
       "112071            0.991875  \n",
       "52052             0.999892  \n",
       "23084             0.923644  \n",
       "...                    ...  \n",
       "6722              0.999985  \n",
       "23035             0.976357  \n",
       "67353             0.971981  \n",
       "27121             0.999428  \n",
       "67041             0.895019  \n",
       "\n",
       "[24000 rows x 11 columns]"
      ]
     },
     "execution_count": 66,
     "metadata": {},
     "output_type": "execute_result"
    }
   ],
   "source": [
    "test_data"
   ]
  },
  {
   "cell_type": "code",
   "execution_count": 67,
   "id": "a4ed45d1",
   "metadata": {},
   "outputs": [],
   "source": [
    "restaurant_predictions=test_data.groupby(['business_id']).first()"
   ]
  },
  {
   "cell_type": "code",
   "execution_count": 68,
   "id": "e8810def",
   "metadata": {},
   "outputs": [
    {
     "data": {
      "text/html": [
       "<div>\n",
       "<style scoped>\n",
       "    .dataframe tbody tr th:only-of-type {\n",
       "        vertical-align: middle;\n",
       "    }\n",
       "\n",
       "    .dataframe tbody tr th {\n",
       "        vertical-align: top;\n",
       "    }\n",
       "\n",
       "    .dataframe thead th {\n",
       "        text-align: right;\n",
       "    }\n",
       "</style>\n",
       "<table border=\"1\" class=\"dataframe\">\n",
       "  <thead>\n",
       "    <tr style=\"text-align: right;\">\n",
       "      <th></th>\n",
       "      <th>name</th>\n",
       "      <th>city</th>\n",
       "      <th>state</th>\n",
       "      <th>postal_code</th>\n",
       "      <th>avg_stars</th>\n",
       "      <th>review_count</th>\n",
       "      <th>review_stars</th>\n",
       "      <th>tokenized_words</th>\n",
       "      <th>success_class</th>\n",
       "      <th>success_probabilty</th>\n",
       "    </tr>\n",
       "    <tr>\n",
       "      <th>business_id</th>\n",
       "      <th></th>\n",
       "      <th></th>\n",
       "      <th></th>\n",
       "      <th></th>\n",
       "      <th></th>\n",
       "      <th></th>\n",
       "      <th></th>\n",
       "      <th></th>\n",
       "      <th></th>\n",
       "      <th></th>\n",
       "    </tr>\n",
       "  </thead>\n",
       "  <tbody>\n",
       "    <tr>\n",
       "      <th>-1m9o3vGRA8IBPNvNqKLmA</th>\n",
       "      <td>\"Bavette's Steakhouse &amp; Bar\"</td>\n",
       "      <td>Las Vegas</td>\n",
       "      <td>NV</td>\n",
       "      <td>89109</td>\n",
       "      <td>4.5</td>\n",
       "      <td>38</td>\n",
       "      <td>5</td>\n",
       "      <td>absolutely amazing went celebrating family ann...</td>\n",
       "      <td>1</td>\n",
       "      <td>0.999897</td>\n",
       "    </tr>\n",
       "    <tr>\n",
       "      <th>-3zffZUHoY8bQjGfPSoBKQ</th>\n",
       "      <td>\"Michael Mina\"</td>\n",
       "      <td>Las Vegas</td>\n",
       "      <td>NV</td>\n",
       "      <td>89109</td>\n",
       "      <td>4.0</td>\n",
       "      <td>590</td>\n",
       "      <td>3</td>\n",
       "      <td>let write okay bitch dared give joel robuchon ...</td>\n",
       "      <td>1</td>\n",
       "      <td>0.999886</td>\n",
       "    </tr>\n",
       "    <tr>\n",
       "      <th>-8ZiMXZReeTD3kwEvS0Lww</th>\n",
       "      <td>\"The Butcher Block\"</td>\n",
       "      <td>Las Vegas</td>\n",
       "      <td>NV</td>\n",
       "      <td>89149</td>\n",
       "      <td>4.5</td>\n",
       "      <td>114</td>\n",
       "      <td>4</td>\n",
       "      <td>clean excellent customer service bought free r...</td>\n",
       "      <td>1</td>\n",
       "      <td>0.859743</td>\n",
       "    </tr>\n",
       "    <tr>\n",
       "      <th>-Eu04UHRqmGGyvYRDY8-tg</th>\n",
       "      <td>\"West Side Market\"</td>\n",
       "      <td>Cleveland</td>\n",
       "      <td>OH</td>\n",
       "      <td>44113</td>\n",
       "      <td>4.5</td>\n",
       "      <td>758</td>\n",
       "      <td>5</td>\n",
       "      <td>zcuzhraj meat mouthful best smokies jerky ive ...</td>\n",
       "      <td>1</td>\n",
       "      <td>0.999827</td>\n",
       "    </tr>\n",
       "    <tr>\n",
       "      <th>-INdswGdyRyy72xXHalNbg</th>\n",
       "      <td>\"99 Ranch Market\"</td>\n",
       "      <td>Las Vegas</td>\n",
       "      <td>NV</td>\n",
       "      <td>89102</td>\n",
       "      <td>3.0</td>\n",
       "      <td>144</td>\n",
       "      <td>3</td>\n",
       "      <td>supermarket located chinatown quite close chin...</td>\n",
       "      <td>1</td>\n",
       "      <td>0.748667</td>\n",
       "    </tr>\n",
       "    <tr>\n",
       "      <th>...</th>\n",
       "      <td>...</td>\n",
       "      <td>...</td>\n",
       "      <td>...</td>\n",
       "      <td>...</td>\n",
       "      <td>...</td>\n",
       "      <td>...</td>\n",
       "      <td>...</td>\n",
       "      <td>...</td>\n",
       "      <td>...</td>\n",
       "      <td>...</td>\n",
       "    </tr>\n",
       "    <tr>\n",
       "      <th>z52UIMVsYhfttfOP2H9VYg</th>\n",
       "      <td>\"Merchant Oyster Company\"</td>\n",
       "      <td>Pittsburgh</td>\n",
       "      <td>PA</td>\n",
       "      <td>15201</td>\n",
       "      <td>3.5</td>\n",
       "      <td>24</td>\n",
       "      <td>2</td>\n",
       "      <td>expected lot went weekday early evening beat w...</td>\n",
       "      <td>1</td>\n",
       "      <td>0.990197</td>\n",
       "    </tr>\n",
       "    <tr>\n",
       "      <th>z6aHIaEM8WWxncbn5nYtXA</th>\n",
       "      <td>\"Popeyes Louisiana Kitchen\"</td>\n",
       "      <td>Scarborough</td>\n",
       "      <td>ON</td>\n",
       "      <td>M1B 5V1</td>\n",
       "      <td>1.5</td>\n",
       "      <td>3</td>\n",
       "      <td>2</td>\n",
       "      <td>particularly impressed quality service locatio...</td>\n",
       "      <td>1</td>\n",
       "      <td>0.760282</td>\n",
       "    </tr>\n",
       "    <tr>\n",
       "      <th>z8H4Mdzl4jS9pYswj6Jf9w</th>\n",
       "      <td>\"Buca Yorkville\"</td>\n",
       "      <td>Toronto</td>\n",
       "      <td>ON</td>\n",
       "      <td>M5R 0A1</td>\n",
       "      <td>3.5</td>\n",
       "      <td>125</td>\n",
       "      <td>1</td>\n",
       "      <td>unfortunately unhappy service frequently go ma...</td>\n",
       "      <td>1</td>\n",
       "      <td>0.917955</td>\n",
       "    </tr>\n",
       "    <tr>\n",
       "      <th>zIfCWjZ0RAe8YVMSPZdOdA</th>\n",
       "      <td>\"Pure Spirits Oyster House &amp; Grill\"</td>\n",
       "      <td>Toronto</td>\n",
       "      <td>ON</td>\n",
       "      <td>M5A 3C4</td>\n",
       "      <td>3.0</td>\n",
       "      <td>197</td>\n",
       "      <td>3</td>\n",
       "      <td>truffle sauce pasta taste great recommended on...</td>\n",
       "      <td>1</td>\n",
       "      <td>0.956904</td>\n",
       "    </tr>\n",
       "    <tr>\n",
       "      <th>zKCgTuzIk8YKWetik8GANg</th>\n",
       "      <td>\"Restaurant Da Vinci\"</td>\n",
       "      <td>Montréal</td>\n",
       "      <td>QC</td>\n",
       "      <td>H3G 2E3</td>\n",
       "      <td>4.0</td>\n",
       "      <td>36</td>\n",
       "      <td>1</td>\n",
       "      <td>overpriced rather plain food way overpriced ge...</td>\n",
       "      <td>1</td>\n",
       "      <td>0.618117</td>\n",
       "    </tr>\n",
       "  </tbody>\n",
       "</table>\n",
       "<p>774 rows × 10 columns</p>\n",
       "</div>"
      ],
      "text/plain": [
       "                                                       name         city  \\\n",
       "business_id                                                                \n",
       "-1m9o3vGRA8IBPNvNqKLmA         \"Bavette's Steakhouse & Bar\"    Las Vegas   \n",
       "-3zffZUHoY8bQjGfPSoBKQ                       \"Michael Mina\"    Las Vegas   \n",
       "-8ZiMXZReeTD3kwEvS0Lww                  \"The Butcher Block\"    Las Vegas   \n",
       "-Eu04UHRqmGGyvYRDY8-tg                   \"West Side Market\"    Cleveland   \n",
       "-INdswGdyRyy72xXHalNbg                    \"99 Ranch Market\"    Las Vegas   \n",
       "...                                                     ...          ...   \n",
       "z52UIMVsYhfttfOP2H9VYg            \"Merchant Oyster Company\"   Pittsburgh   \n",
       "z6aHIaEM8WWxncbn5nYtXA          \"Popeyes Louisiana Kitchen\"  Scarborough   \n",
       "z8H4Mdzl4jS9pYswj6Jf9w                     \"Buca Yorkville\"      Toronto   \n",
       "zIfCWjZ0RAe8YVMSPZdOdA  \"Pure Spirits Oyster House & Grill\"      Toronto   \n",
       "zKCgTuzIk8YKWetik8GANg                \"Restaurant Da Vinci\"     Montréal   \n",
       "\n",
       "                       state postal_code  avg_stars  review_count  \\\n",
       "business_id                                                         \n",
       "-1m9o3vGRA8IBPNvNqKLmA    NV       89109        4.5            38   \n",
       "-3zffZUHoY8bQjGfPSoBKQ    NV       89109        4.0           590   \n",
       "-8ZiMXZReeTD3kwEvS0Lww    NV       89149        4.5           114   \n",
       "-Eu04UHRqmGGyvYRDY8-tg    OH       44113        4.5           758   \n",
       "-INdswGdyRyy72xXHalNbg    NV       89102        3.0           144   \n",
       "...                      ...         ...        ...           ...   \n",
       "z52UIMVsYhfttfOP2H9VYg    PA       15201        3.5            24   \n",
       "z6aHIaEM8WWxncbn5nYtXA    ON     M1B 5V1        1.5             3   \n",
       "z8H4Mdzl4jS9pYswj6Jf9w    ON     M5R 0A1        3.5           125   \n",
       "zIfCWjZ0RAe8YVMSPZdOdA    ON     M5A 3C4        3.0           197   \n",
       "zKCgTuzIk8YKWetik8GANg    QC     H3G 2E3        4.0            36   \n",
       "\n",
       "                        review_stars  \\\n",
       "business_id                            \n",
       "-1m9o3vGRA8IBPNvNqKLmA             5   \n",
       "-3zffZUHoY8bQjGfPSoBKQ             3   \n",
       "-8ZiMXZReeTD3kwEvS0Lww             4   \n",
       "-Eu04UHRqmGGyvYRDY8-tg             5   \n",
       "-INdswGdyRyy72xXHalNbg             3   \n",
       "...                              ...   \n",
       "z52UIMVsYhfttfOP2H9VYg             2   \n",
       "z6aHIaEM8WWxncbn5nYtXA             2   \n",
       "z8H4Mdzl4jS9pYswj6Jf9w             1   \n",
       "zIfCWjZ0RAe8YVMSPZdOdA             3   \n",
       "zKCgTuzIk8YKWetik8GANg             1   \n",
       "\n",
       "                                                          tokenized_words  \\\n",
       "business_id                                                                 \n",
       "-1m9o3vGRA8IBPNvNqKLmA  absolutely amazing went celebrating family ann...   \n",
       "-3zffZUHoY8bQjGfPSoBKQ  let write okay bitch dared give joel robuchon ...   \n",
       "-8ZiMXZReeTD3kwEvS0Lww  clean excellent customer service bought free r...   \n",
       "-Eu04UHRqmGGyvYRDY8-tg  zcuzhraj meat mouthful best smokies jerky ive ...   \n",
       "-INdswGdyRyy72xXHalNbg  supermarket located chinatown quite close chin...   \n",
       "...                                                                   ...   \n",
       "z52UIMVsYhfttfOP2H9VYg  expected lot went weekday early evening beat w...   \n",
       "z6aHIaEM8WWxncbn5nYtXA  particularly impressed quality service locatio...   \n",
       "z8H4Mdzl4jS9pYswj6Jf9w  unfortunately unhappy service frequently go ma...   \n",
       "zIfCWjZ0RAe8YVMSPZdOdA  truffle sauce pasta taste great recommended on...   \n",
       "zKCgTuzIk8YKWetik8GANg  overpriced rather plain food way overpriced ge...   \n",
       "\n",
       "                        success_class  success_probabilty  \n",
       "business_id                                                \n",
       "-1m9o3vGRA8IBPNvNqKLmA              1            0.999897  \n",
       "-3zffZUHoY8bQjGfPSoBKQ              1            0.999886  \n",
       "-8ZiMXZReeTD3kwEvS0Lww              1            0.859743  \n",
       "-Eu04UHRqmGGyvYRDY8-tg              1            0.999827  \n",
       "-INdswGdyRyy72xXHalNbg              1            0.748667  \n",
       "...                               ...                 ...  \n",
       "z52UIMVsYhfttfOP2H9VYg              1            0.990197  \n",
       "z6aHIaEM8WWxncbn5nYtXA              1            0.760282  \n",
       "z8H4Mdzl4jS9pYswj6Jf9w              1            0.917955  \n",
       "zIfCWjZ0RAe8YVMSPZdOdA              1            0.956904  \n",
       "zKCgTuzIk8YKWetik8GANg              1            0.618117  \n",
       "\n",
       "[774 rows x 10 columns]"
      ]
     },
     "execution_count": 68,
     "metadata": {},
     "output_type": "execute_result"
    }
   ],
   "source": [
    "restaurant_predictions"
   ]
  },
  {
   "cell_type": "code",
   "execution_count": 69,
   "id": "5191e870",
   "metadata": {},
   "outputs": [
    {
     "data": {
      "text/plain": [
       "1    717\n",
       "0     57\n",
       "Name: success_class, dtype: int64"
      ]
     },
     "execution_count": 69,
     "metadata": {},
     "output_type": "execute_result"
    }
   ],
   "source": [
    "restaurant_predictions.success_class.value_counts()"
   ]
  },
  {
   "cell_type": "code",
   "execution_count": 70,
   "id": "3920b586",
   "metadata": {},
   "outputs": [],
   "source": [
    "restaurant_predictions.to_csv(\"processed_datasets/output.csv\")"
   ]
  },
  {
   "cell_type": "code",
   "execution_count": null,
   "id": "f912bfa1",
   "metadata": {},
   "outputs": [],
   "source": []
  }
 ],
 "metadata": {
  "kernelspec": {
   "display_name": "Python 3",
   "language": "python",
   "name": "python3"
  },
  "language_info": {
   "codemirror_mode": {
    "name": "ipython",
    "version": 3
   },
   "file_extension": ".py",
   "mimetype": "text/x-python",
   "name": "python",
   "nbconvert_exporter": "python",
   "pygments_lexer": "ipython3",
   "version": "3.8.8"
  },
  "toc": {
   "base_numbering": 1,
   "nav_menu": {},
   "number_sections": true,
   "sideBar": true,
   "skip_h1_title": false,
   "title_cell": "Table of Contents",
   "title_sidebar": "Contents",
   "toc_cell": false,
   "toc_position": {},
   "toc_section_display": true,
   "toc_window_display": false
  },
  "varInspector": {
   "cols": {
    "lenName": 16,
    "lenType": 16,
    "lenVar": 40
   },
   "kernels_config": {
    "python": {
     "delete_cmd_postfix": "",
     "delete_cmd_prefix": "del ",
     "library": "var_list.py",
     "varRefreshCmd": "print(var_dic_list())"
    },
    "r": {
     "delete_cmd_postfix": ") ",
     "delete_cmd_prefix": "rm(",
     "library": "var_list.r",
     "varRefreshCmd": "cat(var_dic_list()) "
    }
   },
   "types_to_exclude": [
    "module",
    "function",
    "builtin_function_or_method",
    "instance",
    "_Feature"
   ],
   "window_display": false
  }
 },
 "nbformat": 4,
 "nbformat_minor": 5
}
